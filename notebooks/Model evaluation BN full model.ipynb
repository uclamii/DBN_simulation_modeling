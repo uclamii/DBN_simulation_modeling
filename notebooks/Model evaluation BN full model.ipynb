{
 "cells": [
  {
   "cell_type": "code",
   "execution_count": 1,
   "metadata": {},
   "outputs": [],
   "source": [
    "import pandas as pd\n",
    "import numpy as np\n",
    "from tqdm import tqdm\n",
    "\n",
    "from sklearn.metrics import roc_auc_score\n",
    "from sklearn.metrics import average_precision_score, precision_score, recall_score, f1_score, confusion_matrix"
   ]
  },
  {
   "cell_type": "code",
   "execution_count": 3,
   "metadata": {},
   "outputs": [],
   "source": [
    "df_valid = pd.read_csv(\n",
    "        # \"../Data/genie_datasets/DBN_predictions/all_var_BN_model/cure_ckd_egfr_registry_preprocessed_project_preproc_data_discretized_UCLA_train_with_DBN_predictions.csv\",\n",
    "        \"../Data/genie_datasets/DBN_predictions/all_var_BN_model/cure_ckd_egfr_registry_preprocessed_project_preproc_data_discretized_UCLA_valid_with_DBN_predictions.csv\",\n",
    "        # \"../Data/genie_datasets/DBN_predictions/all_var_BN_model/cure_ckd_egfr_registry_preprocessed_project_preproc_data_discretized_UCLA_test_with_DBN_predictions.csv\",\n",
    "#         \"../Data/genie_datasets/DBN_predictions/all_var_BN_model/Prov_cure_ckd_egfr_registry_preprocessed_project_preproc_data_discretized_using_UCLA_discritizer_with_DBN_predictions.csv\",\n",
    "    )"
   ]
  },
  {
   "cell_type": "markdown",
   "metadata": {},
   "source": [
    "## Estimate metrics over varying threshold"
   ]
  },
  {
   "cell_type": "code",
   "execution_count": 5,
   "metadata": {},
   "outputs": [
    {
     "name": "stderr",
     "output_type": "stream",
     "text": [
      "100%|██████████| 1/1 [00:04<00:00,  4.17s/it]\n"
     ]
    }
   ],
   "source": [
    "thresholds = np.linspace(0,1,100)\n",
    "num_of_epochs = 1\n",
    "\n",
    "epoch_stats = dict()\n",
    "\n",
    "# looping over epochs\n",
    "for epoch_num in tqdm(range(0, num_of_epochs)):\n",
    "    \n",
    "    # epoch metrics dict\n",
    "    epoch_cm_metrics, epoch_metrics = dict(), dict()\n",
    "    \n",
    "    # target variable\n",
    "    target = \"year\" + str(1 + epoch_num) + \"_reduction_40_ge\"\n",
    "    truth = df_valid[target].str.replace(\"S_\", \"\").astype(int).values\n",
    "    predictions = df_valid[\"predictions_year\" + str(epoch_num + 1)]\n",
    "    tns, fps, fns, tps = [], [], [], []\n",
    "    precisions, recalls, specificities, f1_scores = [], [], [], []\n",
    "    \n",
    "    # looping over thresholds\n",
    "    for threshold in thresholds:\n",
    "        preds = (predictions>threshold)*1\n",
    "        tn, fp, fn, tp = confusion_matrix(truth, preds).ravel()\n",
    "        \n",
    "        # confusion matrices\n",
    "        tns.append(tn)\n",
    "        fps.append(fp)\n",
    "        fns.append(fn)\n",
    "        tps.append(tp)\n",
    "        \n",
    "        precision = precision_score(truth,preds)\n",
    "        recall = recall_score(truth,preds)\n",
    "        specificity = float(tn) / float(tn+fp)\n",
    "        f1Score = f1_score(truth, preds)\n",
    "        \n",
    "        # metrics\n",
    "        precisions.append(precision)\n",
    "        recalls.append(recall)\n",
    "        specificities.append(specificity)\n",
    "        f1_scores.append(f1Score)\n",
    "    \n",
    "    epoch_cm_metrics[\"TNs\"] = tns\n",
    "    epoch_cm_metrics[\"FPs\"] = fps\n",
    "    epoch_cm_metrics[\"FNs\"] = fns\n",
    "    epoch_cm_metrics[\"TPs\"] = tps\n",
    "    \n",
    "    epoch_metrics[\"Precision/PPV\"] = precisions\n",
    "    epoch_metrics[\"Recall/Sensitivity\"] = recalls\n",
    "    epoch_metrics[\"Specificity\"] = specificities\n",
    "    epoch_metrics[\"F1 score\"] = f1_scores\n",
    "    \n",
    "    epoch_stats[\"epoch_\" + str(epoch_num + 1)] = [epoch_cm_metrics] + [epoch_metrics]"
   ]
  },
  {
   "cell_type": "markdown",
   "metadata": {},
   "source": [
    "## Plot metrics"
   ]
  },
  {
   "cell_type": "code",
   "execution_count": 11,
   "metadata": {
    "scrolled": false
   },
   "outputs": [
    {
     "data": {
      "application/vnd.plotly.v1+json": {
       "config": {
        "plotlyServerURL": "https://plot.ly"
       },
       "data": [
        {
         "mode": "lines+markers",
         "name": "Precision/PPV",
         "type": "scatter",
         "x": [
          0,
          0.01,
          0.02,
          0.03,
          0.04,
          0.05,
          0.06,
          0.07,
          0.08,
          0.09,
          0.1,
          0.11,
          0.12,
          0.13,
          0.14,
          0.15,
          0.16,
          0.17,
          0.18,
          0.19,
          0.2,
          0.21,
          0.22,
          0.23,
          0.24,
          0.25,
          0.26,
          0.27,
          0.28,
          0.29,
          0.3,
          0.31,
          0.32,
          0.33,
          0.34,
          0.35,
          0.36,
          0.37,
          0.38,
          0.39,
          0.4,
          0.41,
          0.42,
          0.43,
          0.44,
          0.45,
          0.46,
          0.47,
          0.48,
          0.49,
          0.51,
          0.52,
          0.53,
          0.54,
          0.55,
          0.56,
          0.57,
          0.58,
          0.59,
          0.6,
          0.61,
          0.62,
          0.63,
          0.64,
          0.65,
          0.66,
          0.67,
          0.68,
          0.69,
          0.7,
          0.71,
          0.72,
          0.73,
          0.74,
          0.75,
          0.76,
          0.77,
          0.78,
          0.79,
          0.8,
          0.81,
          0.82,
          0.83,
          0.84,
          0.85,
          0.86,
          0.87,
          0.88,
          0.89,
          0.9,
          0.91,
          0.92,
          0.93,
          0.94,
          0.95,
          0.96,
          0.97,
          0.98,
          0.99,
          1
         ],
         "y": [
          0.008,
          0.008,
          0.008,
          0.008,
          0.008,
          0.008,
          0.008,
          0.009,
          0.009,
          0.012,
          0.015,
          0.016,
          0.016,
          0.016,
          0.018,
          0.019,
          0.022,
          0.023,
          0.023,
          0.027,
          0.027,
          0.028,
          0.028,
          0.03,
          0.033,
          0.033,
          0.033,
          0.033,
          0.035,
          0.035,
          0.035,
          0.042,
          0.042,
          0.047,
          0.047,
          0.047,
          0.047,
          0.047,
          0.047,
          0.047,
          0.047,
          0.047,
          0.065,
          0.065,
          0.065,
          0.077,
          0.077,
          0.077,
          0.077,
          0.077,
          0.077,
          0.077,
          0.077,
          0.129,
          0.129,
          0.129,
          0.129,
          0.129,
          0.126,
          0.126,
          0.126,
          0.126,
          0.126,
          0.126,
          0.14,
          0.14,
          0.14,
          0.112,
          0.112,
          0.103,
          0.103,
          0.103,
          0.103,
          0.103,
          0.103,
          0.103,
          0.103,
          0.161,
          0.161,
          0.167,
          0.167,
          0.167,
          0.167,
          0.167,
          0,
          0,
          0,
          0,
          0,
          0,
          0,
          0,
          0,
          0,
          0,
          0,
          0,
          0,
          0,
          0
         ]
        },
        {
         "mode": "lines+markers",
         "name": "Recall/Sensitivity",
         "type": "scatter",
         "x": [
          0,
          0.01,
          0.02,
          0.03,
          0.04,
          0.05,
          0.06,
          0.07,
          0.08,
          0.09,
          0.1,
          0.11,
          0.12,
          0.13,
          0.14,
          0.15,
          0.16,
          0.17,
          0.18,
          0.19,
          0.2,
          0.21,
          0.22,
          0.23,
          0.24,
          0.25,
          0.26,
          0.27,
          0.28,
          0.29,
          0.3,
          0.31,
          0.32,
          0.33,
          0.34,
          0.35,
          0.36,
          0.37,
          0.38,
          0.39,
          0.4,
          0.41,
          0.42,
          0.43,
          0.44,
          0.45,
          0.46,
          0.47,
          0.48,
          0.49,
          0.51,
          0.52,
          0.53,
          0.54,
          0.55,
          0.56,
          0.57,
          0.58,
          0.59,
          0.6,
          0.61,
          0.62,
          0.63,
          0.64,
          0.65,
          0.66,
          0.67,
          0.68,
          0.69,
          0.7,
          0.71,
          0.72,
          0.73,
          0.74,
          0.75,
          0.76,
          0.77,
          0.78,
          0.79,
          0.8,
          0.81,
          0.82,
          0.83,
          0.84,
          0.85,
          0.86,
          0.87,
          0.88,
          0.89,
          0.9,
          0.91,
          0.92,
          0.93,
          0.94,
          0.95,
          0.96,
          0.97,
          0.98,
          0.99,
          1
         ],
         "y": [
          1,
          1,
          1,
          1,
          1,
          1,
          1,
          0.925,
          0.925,
          0.808,
          0.763,
          0.728,
          0.728,
          0.728,
          0.704,
          0.664,
          0.605,
          0.597,
          0.597,
          0.544,
          0.531,
          0.451,
          0.451,
          0.389,
          0.379,
          0.379,
          0.368,
          0.368,
          0.283,
          0.283,
          0.237,
          0.208,
          0.208,
          0.173,
          0.171,
          0.171,
          0.171,
          0.171,
          0.171,
          0.165,
          0.165,
          0.144,
          0.112,
          0.112,
          0.112,
          0.099,
          0.099,
          0.099,
          0.099,
          0.099,
          0.099,
          0.088,
          0.088,
          0.067,
          0.067,
          0.067,
          0.067,
          0.067,
          0.056,
          0.056,
          0.056,
          0.056,
          0.056,
          0.056,
          0.051,
          0.051,
          0.051,
          0.032,
          0.032,
          0.024,
          0.024,
          0.024,
          0.024,
          0.024,
          0.024,
          0.024,
          0.024,
          0.013,
          0.013,
          0.008,
          0.008,
          0.008,
          0.008,
          0.008,
          0,
          0,
          0,
          0,
          0,
          0,
          0,
          0,
          0,
          0,
          0,
          0,
          0,
          0,
          0,
          0
         ]
        },
        {
         "mode": "lines+markers",
         "name": "Specificity",
         "type": "scatter",
         "x": [
          0,
          0.01,
          0.02,
          0.03,
          0.04,
          0.05,
          0.06,
          0.07,
          0.08,
          0.09,
          0.1,
          0.11,
          0.12,
          0.13,
          0.14,
          0.15,
          0.16,
          0.17,
          0.18,
          0.19,
          0.2,
          0.21,
          0.22,
          0.23,
          0.24,
          0.25,
          0.26,
          0.27,
          0.28,
          0.29,
          0.3,
          0.31,
          0.32,
          0.33,
          0.34,
          0.35,
          0.36,
          0.37,
          0.38,
          0.39,
          0.4,
          0.41,
          0.42,
          0.43,
          0.44,
          0.45,
          0.46,
          0.47,
          0.48,
          0.49,
          0.51,
          0.52,
          0.53,
          0.54,
          0.55,
          0.56,
          0.57,
          0.58,
          0.59,
          0.6,
          0.61,
          0.62,
          0.63,
          0.64,
          0.65,
          0.66,
          0.67,
          0.68,
          0.69,
          0.7,
          0.71,
          0.72,
          0.73,
          0.74,
          0.75,
          0.76,
          0.77,
          0.78,
          0.79,
          0.8,
          0.81,
          0.82,
          0.83,
          0.84,
          0.85,
          0.86,
          0.87,
          0.88,
          0.89,
          0.9,
          0.91,
          0.92,
          0.93,
          0.94,
          0.95,
          0.96,
          0.97,
          0.98,
          0.99,
          1
         ],
         "y": [
          0,
          0,
          0,
          0,
          0,
          0,
          0,
          0.184,
          0.184,
          0.469,
          0.586,
          0.644,
          0.644,
          0.644,
          0.694,
          0.727,
          0.783,
          0.792,
          0.792,
          0.841,
          0.844,
          0.871,
          0.871,
          0.899,
          0.911,
          0.911,
          0.913,
          0.913,
          0.936,
          0.936,
          0.947,
          0.961,
          0.961,
          0.972,
          0.972,
          0.972,
          0.972,
          0.972,
          0.972,
          0.972,
          0.972,
          0.976,
          0.987,
          0.987,
          0.987,
          0.99,
          0.99,
          0.99,
          0.99,
          0.99,
          0.99,
          0.991,
          0.991,
          0.996,
          0.996,
          0.996,
          0.996,
          0.996,
          0.997,
          0.997,
          0.997,
          0.997,
          0.997,
          0.997,
          0.997,
          0.997,
          0.997,
          0.998,
          0.998,
          0.998,
          0.998,
          0.998,
          0.998,
          0.998,
          0.998,
          0.998,
          0.998,
          0.999,
          0.999,
          1,
          1,
          1,
          1,
          1,
          1,
          1,
          1,
          1,
          1,
          1,
          1,
          1,
          1,
          1,
          1,
          1,
          1,
          1,
          1,
          1
         ]
        },
        {
         "mode": "lines+markers",
         "name": "F1 score",
         "type": "scatter",
         "x": [
          0,
          0.01,
          0.02,
          0.03,
          0.04,
          0.05,
          0.06,
          0.07,
          0.08,
          0.09,
          0.1,
          0.11,
          0.12,
          0.13,
          0.14,
          0.15,
          0.16,
          0.17,
          0.18,
          0.19,
          0.2,
          0.21,
          0.22,
          0.23,
          0.24,
          0.25,
          0.26,
          0.27,
          0.28,
          0.29,
          0.3,
          0.31,
          0.32,
          0.33,
          0.34,
          0.35,
          0.36,
          0.37,
          0.38,
          0.39,
          0.4,
          0.41,
          0.42,
          0.43,
          0.44,
          0.45,
          0.46,
          0.47,
          0.48,
          0.49,
          0.51,
          0.52,
          0.53,
          0.54,
          0.55,
          0.56,
          0.57,
          0.58,
          0.59,
          0.6,
          0.61,
          0.62,
          0.63,
          0.64,
          0.65,
          0.66,
          0.67,
          0.68,
          0.69,
          0.7,
          0.71,
          0.72,
          0.73,
          0.74,
          0.75,
          0.76,
          0.77,
          0.78,
          0.79,
          0.8,
          0.81,
          0.82,
          0.83,
          0.84,
          0.85,
          0.86,
          0.87,
          0.88,
          0.89,
          0.9,
          0.91,
          0.92,
          0.93,
          0.94,
          0.95,
          0.96,
          0.97,
          0.98,
          0.99,
          1
         ],
         "y": [
          0.016,
          0.016,
          0.016,
          0.016,
          0.016,
          0.016,
          0.016,
          0.018,
          0.018,
          0.024,
          0.029,
          0.032,
          0.032,
          0.032,
          0.036,
          0.038,
          0.043,
          0.044,
          0.044,
          0.052,
          0.051,
          0.052,
          0.052,
          0.056,
          0.061,
          0.061,
          0.061,
          0.061,
          0.062,
          0.062,
          0.062,
          0.07,
          0.07,
          0.074,
          0.073,
          0.073,
          0.073,
          0.074,
          0.074,
          0.073,
          0.073,
          0.07,
          0.083,
          0.083,
          0.083,
          0.086,
          0.086,
          0.086,
          0.086,
          0.086,
          0.086,
          0.082,
          0.082,
          0.088,
          0.088,
          0.088,
          0.088,
          0.088,
          0.077,
          0.077,
          0.077,
          0.077,
          0.077,
          0.077,
          0.074,
          0.074,
          0.074,
          0.05,
          0.05,
          0.039,
          0.039,
          0.039,
          0.039,
          0.039,
          0.039,
          0.039,
          0.039,
          0.025,
          0.025,
          0.015,
          0.015,
          0.015,
          0.015,
          0.015,
          0,
          0,
          0,
          0,
          0,
          0,
          0,
          0,
          0,
          0,
          0,
          0,
          0,
          0,
          0,
          0
         ]
        }
       ],
       "layout": {
        "template": {
         "data": {
          "bar": [
           {
            "error_x": {
             "color": "#2a3f5f"
            },
            "error_y": {
             "color": "#2a3f5f"
            },
            "marker": {
             "line": {
              "color": "#E5ECF6",
              "width": 0.5
             }
            },
            "type": "bar"
           }
          ],
          "barpolar": [
           {
            "marker": {
             "line": {
              "color": "#E5ECF6",
              "width": 0.5
             }
            },
            "type": "barpolar"
           }
          ],
          "carpet": [
           {
            "aaxis": {
             "endlinecolor": "#2a3f5f",
             "gridcolor": "white",
             "linecolor": "white",
             "minorgridcolor": "white",
             "startlinecolor": "#2a3f5f"
            },
            "baxis": {
             "endlinecolor": "#2a3f5f",
             "gridcolor": "white",
             "linecolor": "white",
             "minorgridcolor": "white",
             "startlinecolor": "#2a3f5f"
            },
            "type": "carpet"
           }
          ],
          "choropleth": [
           {
            "colorbar": {
             "outlinewidth": 0,
             "ticks": ""
            },
            "type": "choropleth"
           }
          ],
          "contour": [
           {
            "colorbar": {
             "outlinewidth": 0,
             "ticks": ""
            },
            "colorscale": [
             [
              0,
              "#0d0887"
             ],
             [
              0.1111111111111111,
              "#46039f"
             ],
             [
              0.2222222222222222,
              "#7201a8"
             ],
             [
              0.3333333333333333,
              "#9c179e"
             ],
             [
              0.4444444444444444,
              "#bd3786"
             ],
             [
              0.5555555555555556,
              "#d8576b"
             ],
             [
              0.6666666666666666,
              "#ed7953"
             ],
             [
              0.7777777777777778,
              "#fb9f3a"
             ],
             [
              0.8888888888888888,
              "#fdca26"
             ],
             [
              1,
              "#f0f921"
             ]
            ],
            "type": "contour"
           }
          ],
          "contourcarpet": [
           {
            "colorbar": {
             "outlinewidth": 0,
             "ticks": ""
            },
            "type": "contourcarpet"
           }
          ],
          "heatmap": [
           {
            "colorbar": {
             "outlinewidth": 0,
             "ticks": ""
            },
            "colorscale": [
             [
              0,
              "#0d0887"
             ],
             [
              0.1111111111111111,
              "#46039f"
             ],
             [
              0.2222222222222222,
              "#7201a8"
             ],
             [
              0.3333333333333333,
              "#9c179e"
             ],
             [
              0.4444444444444444,
              "#bd3786"
             ],
             [
              0.5555555555555556,
              "#d8576b"
             ],
             [
              0.6666666666666666,
              "#ed7953"
             ],
             [
              0.7777777777777778,
              "#fb9f3a"
             ],
             [
              0.8888888888888888,
              "#fdca26"
             ],
             [
              1,
              "#f0f921"
             ]
            ],
            "type": "heatmap"
           }
          ],
          "heatmapgl": [
           {
            "colorbar": {
             "outlinewidth": 0,
             "ticks": ""
            },
            "colorscale": [
             [
              0,
              "#0d0887"
             ],
             [
              0.1111111111111111,
              "#46039f"
             ],
             [
              0.2222222222222222,
              "#7201a8"
             ],
             [
              0.3333333333333333,
              "#9c179e"
             ],
             [
              0.4444444444444444,
              "#bd3786"
             ],
             [
              0.5555555555555556,
              "#d8576b"
             ],
             [
              0.6666666666666666,
              "#ed7953"
             ],
             [
              0.7777777777777778,
              "#fb9f3a"
             ],
             [
              0.8888888888888888,
              "#fdca26"
             ],
             [
              1,
              "#f0f921"
             ]
            ],
            "type": "heatmapgl"
           }
          ],
          "histogram": [
           {
            "marker": {
             "colorbar": {
              "outlinewidth": 0,
              "ticks": ""
             }
            },
            "type": "histogram"
           }
          ],
          "histogram2d": [
           {
            "colorbar": {
             "outlinewidth": 0,
             "ticks": ""
            },
            "colorscale": [
             [
              0,
              "#0d0887"
             ],
             [
              0.1111111111111111,
              "#46039f"
             ],
             [
              0.2222222222222222,
              "#7201a8"
             ],
             [
              0.3333333333333333,
              "#9c179e"
             ],
             [
              0.4444444444444444,
              "#bd3786"
             ],
             [
              0.5555555555555556,
              "#d8576b"
             ],
             [
              0.6666666666666666,
              "#ed7953"
             ],
             [
              0.7777777777777778,
              "#fb9f3a"
             ],
             [
              0.8888888888888888,
              "#fdca26"
             ],
             [
              1,
              "#f0f921"
             ]
            ],
            "type": "histogram2d"
           }
          ],
          "histogram2dcontour": [
           {
            "colorbar": {
             "outlinewidth": 0,
             "ticks": ""
            },
            "colorscale": [
             [
              0,
              "#0d0887"
             ],
             [
              0.1111111111111111,
              "#46039f"
             ],
             [
              0.2222222222222222,
              "#7201a8"
             ],
             [
              0.3333333333333333,
              "#9c179e"
             ],
             [
              0.4444444444444444,
              "#bd3786"
             ],
             [
              0.5555555555555556,
              "#d8576b"
             ],
             [
              0.6666666666666666,
              "#ed7953"
             ],
             [
              0.7777777777777778,
              "#fb9f3a"
             ],
             [
              0.8888888888888888,
              "#fdca26"
             ],
             [
              1,
              "#f0f921"
             ]
            ],
            "type": "histogram2dcontour"
           }
          ],
          "mesh3d": [
           {
            "colorbar": {
             "outlinewidth": 0,
             "ticks": ""
            },
            "type": "mesh3d"
           }
          ],
          "parcoords": [
           {
            "line": {
             "colorbar": {
              "outlinewidth": 0,
              "ticks": ""
             }
            },
            "type": "parcoords"
           }
          ],
          "pie": [
           {
            "automargin": true,
            "type": "pie"
           }
          ],
          "scatter": [
           {
            "marker": {
             "colorbar": {
              "outlinewidth": 0,
              "ticks": ""
             }
            },
            "type": "scatter"
           }
          ],
          "scatter3d": [
           {
            "line": {
             "colorbar": {
              "outlinewidth": 0,
              "ticks": ""
             }
            },
            "marker": {
             "colorbar": {
              "outlinewidth": 0,
              "ticks": ""
             }
            },
            "type": "scatter3d"
           }
          ],
          "scattercarpet": [
           {
            "marker": {
             "colorbar": {
              "outlinewidth": 0,
              "ticks": ""
             }
            },
            "type": "scattercarpet"
           }
          ],
          "scattergeo": [
           {
            "marker": {
             "colorbar": {
              "outlinewidth": 0,
              "ticks": ""
             }
            },
            "type": "scattergeo"
           }
          ],
          "scattergl": [
           {
            "marker": {
             "colorbar": {
              "outlinewidth": 0,
              "ticks": ""
             }
            },
            "type": "scattergl"
           }
          ],
          "scattermapbox": [
           {
            "marker": {
             "colorbar": {
              "outlinewidth": 0,
              "ticks": ""
             }
            },
            "type": "scattermapbox"
           }
          ],
          "scatterpolar": [
           {
            "marker": {
             "colorbar": {
              "outlinewidth": 0,
              "ticks": ""
             }
            },
            "type": "scatterpolar"
           }
          ],
          "scatterpolargl": [
           {
            "marker": {
             "colorbar": {
              "outlinewidth": 0,
              "ticks": ""
             }
            },
            "type": "scatterpolargl"
           }
          ],
          "scatterternary": [
           {
            "marker": {
             "colorbar": {
              "outlinewidth": 0,
              "ticks": ""
             }
            },
            "type": "scatterternary"
           }
          ],
          "surface": [
           {
            "colorbar": {
             "outlinewidth": 0,
             "ticks": ""
            },
            "colorscale": [
             [
              0,
              "#0d0887"
             ],
             [
              0.1111111111111111,
              "#46039f"
             ],
             [
              0.2222222222222222,
              "#7201a8"
             ],
             [
              0.3333333333333333,
              "#9c179e"
             ],
             [
              0.4444444444444444,
              "#bd3786"
             ],
             [
              0.5555555555555556,
              "#d8576b"
             ],
             [
              0.6666666666666666,
              "#ed7953"
             ],
             [
              0.7777777777777778,
              "#fb9f3a"
             ],
             [
              0.8888888888888888,
              "#fdca26"
             ],
             [
              1,
              "#f0f921"
             ]
            ],
            "type": "surface"
           }
          ],
          "table": [
           {
            "cells": {
             "fill": {
              "color": "#EBF0F8"
             },
             "line": {
              "color": "white"
             }
            },
            "header": {
             "fill": {
              "color": "#C8D4E3"
             },
             "line": {
              "color": "white"
             }
            },
            "type": "table"
           }
          ]
         },
         "layout": {
          "annotationdefaults": {
           "arrowcolor": "#2a3f5f",
           "arrowhead": 0,
           "arrowwidth": 1
          },
          "coloraxis": {
           "colorbar": {
            "outlinewidth": 0,
            "ticks": ""
           }
          },
          "colorscale": {
           "diverging": [
            [
             0,
             "#8e0152"
            ],
            [
             0.1,
             "#c51b7d"
            ],
            [
             0.2,
             "#de77ae"
            ],
            [
             0.3,
             "#f1b6da"
            ],
            [
             0.4,
             "#fde0ef"
            ],
            [
             0.5,
             "#f7f7f7"
            ],
            [
             0.6,
             "#e6f5d0"
            ],
            [
             0.7,
             "#b8e186"
            ],
            [
             0.8,
             "#7fbc41"
            ],
            [
             0.9,
             "#4d9221"
            ],
            [
             1,
             "#276419"
            ]
           ],
           "sequential": [
            [
             0,
             "#0d0887"
            ],
            [
             0.1111111111111111,
             "#46039f"
            ],
            [
             0.2222222222222222,
             "#7201a8"
            ],
            [
             0.3333333333333333,
             "#9c179e"
            ],
            [
             0.4444444444444444,
             "#bd3786"
            ],
            [
             0.5555555555555556,
             "#d8576b"
            ],
            [
             0.6666666666666666,
             "#ed7953"
            ],
            [
             0.7777777777777778,
             "#fb9f3a"
            ],
            [
             0.8888888888888888,
             "#fdca26"
            ],
            [
             1,
             "#f0f921"
            ]
           ],
           "sequentialminus": [
            [
             0,
             "#0d0887"
            ],
            [
             0.1111111111111111,
             "#46039f"
            ],
            [
             0.2222222222222222,
             "#7201a8"
            ],
            [
             0.3333333333333333,
             "#9c179e"
            ],
            [
             0.4444444444444444,
             "#bd3786"
            ],
            [
             0.5555555555555556,
             "#d8576b"
            ],
            [
             0.6666666666666666,
             "#ed7953"
            ],
            [
             0.7777777777777778,
             "#fb9f3a"
            ],
            [
             0.8888888888888888,
             "#fdca26"
            ],
            [
             1,
             "#f0f921"
            ]
           ]
          },
          "colorway": [
           "#636efa",
           "#EF553B",
           "#00cc96",
           "#ab63fa",
           "#FFA15A",
           "#19d3f3",
           "#FF6692",
           "#B6E880",
           "#FF97FF",
           "#FECB52"
          ],
          "font": {
           "color": "#2a3f5f"
          },
          "geo": {
           "bgcolor": "white",
           "lakecolor": "white",
           "landcolor": "#E5ECF6",
           "showlakes": true,
           "showland": true,
           "subunitcolor": "white"
          },
          "hoverlabel": {
           "align": "left"
          },
          "hovermode": "closest",
          "mapbox": {
           "style": "light"
          },
          "paper_bgcolor": "white",
          "plot_bgcolor": "#E5ECF6",
          "polar": {
           "angularaxis": {
            "gridcolor": "white",
            "linecolor": "white",
            "ticks": ""
           },
           "bgcolor": "#E5ECF6",
           "radialaxis": {
            "gridcolor": "white",
            "linecolor": "white",
            "ticks": ""
           }
          },
          "scene": {
           "xaxis": {
            "backgroundcolor": "#E5ECF6",
            "gridcolor": "white",
            "gridwidth": 2,
            "linecolor": "white",
            "showbackground": true,
            "ticks": "",
            "zerolinecolor": "white"
           },
           "yaxis": {
            "backgroundcolor": "#E5ECF6",
            "gridcolor": "white",
            "gridwidth": 2,
            "linecolor": "white",
            "showbackground": true,
            "ticks": "",
            "zerolinecolor": "white"
           },
           "zaxis": {
            "backgroundcolor": "#E5ECF6",
            "gridcolor": "white",
            "gridwidth": 2,
            "linecolor": "white",
            "showbackground": true,
            "ticks": "",
            "zerolinecolor": "white"
           }
          },
          "shapedefaults": {
           "line": {
            "color": "#2a3f5f"
           }
          },
          "ternary": {
           "aaxis": {
            "gridcolor": "white",
            "linecolor": "white",
            "ticks": ""
           },
           "baxis": {
            "gridcolor": "white",
            "linecolor": "white",
            "ticks": ""
           },
           "bgcolor": "#E5ECF6",
           "caxis": {
            "gridcolor": "white",
            "linecolor": "white",
            "ticks": ""
           }
          },
          "title": {
           "x": 0.05
          },
          "xaxis": {
           "automargin": true,
           "gridcolor": "white",
           "linecolor": "white",
           "ticks": "",
           "title": {
            "standoff": 15
           },
           "zerolinecolor": "white",
           "zerolinewidth": 2
          },
          "yaxis": {
           "automargin": true,
           "gridcolor": "white",
           "linecolor": "white",
           "ticks": "",
           "title": {
            "standoff": 15
           },
           "zerolinecolor": "white",
           "zerolinewidth": 2
          }
         }
        },
        "title": {
         "text": "Metrics Vs Threshold epoch 1"
        },
        "xaxis": {
         "title": {
          "text": "Thresholds"
         }
        },
        "yaxis": {
         "title": {
          "text": "Metric score [0,1]"
         }
        }
       }
      },
      "text/html": [
       "<div>\n",
       "        \n",
       "        \n",
       "            <div id=\"0b38c3e6-f395-43f8-83f7-f642205ba729\" class=\"plotly-graph-div\" style=\"height:525px; width:100%;\"></div>\n",
       "            <script type=\"text/javascript\">\n",
       "                require([\"plotly\"], function(Plotly) {\n",
       "                    window.PLOTLYENV=window.PLOTLYENV || {};\n",
       "                    \n",
       "                if (document.getElementById(\"0b38c3e6-f395-43f8-83f7-f642205ba729\")) {\n",
       "                    Plotly.newPlot(\n",
       "                        '0b38c3e6-f395-43f8-83f7-f642205ba729',\n",
       "                        [{\"mode\": \"lines+markers\", \"name\": \"Precision/PPV\", \"type\": \"scatter\", \"x\": [0.0, 0.01, 0.02, 0.03, 0.04, 0.05, 0.06, 0.07, 0.08, 0.09, 0.1, 0.11, 0.12, 0.13, 0.14, 0.15, 0.16, 0.17, 0.18, 0.19, 0.2, 0.21, 0.22, 0.23, 0.24, 0.25, 0.26, 0.27, 0.28, 0.29, 0.3, 0.31, 0.32, 0.33, 0.34, 0.35, 0.36, 0.37, 0.38, 0.39, 0.4, 0.41, 0.42, 0.43, 0.44, 0.45, 0.46, 0.47, 0.48, 0.49, 0.51, 0.52, 0.53, 0.54, 0.55, 0.56, 0.57, 0.58, 0.59, 0.6, 0.61, 0.62, 0.63, 0.64, 0.65, 0.66, 0.67, 0.68, 0.69, 0.7, 0.71, 0.72, 0.73, 0.74, 0.75, 0.76, 0.77, 0.78, 0.79, 0.8, 0.81, 0.82, 0.83, 0.84, 0.85, 0.86, 0.87, 0.88, 0.89, 0.9, 0.91, 0.92, 0.93, 0.94, 0.95, 0.96, 0.97, 0.98, 0.99, 1.0], \"y\": [0.008, 0.008, 0.008, 0.008, 0.008, 0.008, 0.008, 0.009, 0.009, 0.012, 0.015, 0.016, 0.016, 0.016, 0.018, 0.019, 0.022, 0.023, 0.023, 0.027, 0.027, 0.028, 0.028, 0.03, 0.033, 0.033, 0.033, 0.033, 0.035, 0.035, 0.035, 0.042, 0.042, 0.047, 0.047, 0.047, 0.047, 0.047, 0.047, 0.047, 0.047, 0.047, 0.065, 0.065, 0.065, 0.077, 0.077, 0.077, 0.077, 0.077, 0.077, 0.077, 0.077, 0.129, 0.129, 0.129, 0.129, 0.129, 0.126, 0.126, 0.126, 0.126, 0.126, 0.126, 0.14, 0.14, 0.14, 0.112, 0.112, 0.103, 0.103, 0.103, 0.103, 0.103, 0.103, 0.103, 0.103, 0.161, 0.161, 0.167, 0.167, 0.167, 0.167, 0.167, 0.0, 0.0, 0.0, 0.0, 0.0, 0.0, 0.0, 0.0, 0.0, 0.0, 0.0, 0.0, 0.0, 0.0, 0.0, 0.0]}, {\"mode\": \"lines+markers\", \"name\": \"Recall/Sensitivity\", \"type\": \"scatter\", \"x\": [0.0, 0.01, 0.02, 0.03, 0.04, 0.05, 0.06, 0.07, 0.08, 0.09, 0.1, 0.11, 0.12, 0.13, 0.14, 0.15, 0.16, 0.17, 0.18, 0.19, 0.2, 0.21, 0.22, 0.23, 0.24, 0.25, 0.26, 0.27, 0.28, 0.29, 0.3, 0.31, 0.32, 0.33, 0.34, 0.35, 0.36, 0.37, 0.38, 0.39, 0.4, 0.41, 0.42, 0.43, 0.44, 0.45, 0.46, 0.47, 0.48, 0.49, 0.51, 0.52, 0.53, 0.54, 0.55, 0.56, 0.57, 0.58, 0.59, 0.6, 0.61, 0.62, 0.63, 0.64, 0.65, 0.66, 0.67, 0.68, 0.69, 0.7, 0.71, 0.72, 0.73, 0.74, 0.75, 0.76, 0.77, 0.78, 0.79, 0.8, 0.81, 0.82, 0.83, 0.84, 0.85, 0.86, 0.87, 0.88, 0.89, 0.9, 0.91, 0.92, 0.93, 0.94, 0.95, 0.96, 0.97, 0.98, 0.99, 1.0], \"y\": [1.0, 1.0, 1.0, 1.0, 1.0, 1.0, 1.0, 0.925, 0.925, 0.808, 0.763, 0.728, 0.728, 0.728, 0.704, 0.664, 0.605, 0.597, 0.597, 0.544, 0.531, 0.451, 0.451, 0.389, 0.379, 0.379, 0.368, 0.368, 0.283, 0.283, 0.237, 0.208, 0.208, 0.173, 0.171, 0.171, 0.171, 0.171, 0.171, 0.165, 0.165, 0.144, 0.112, 0.112, 0.112, 0.099, 0.099, 0.099, 0.099, 0.099, 0.099, 0.088, 0.088, 0.067, 0.067, 0.067, 0.067, 0.067, 0.056, 0.056, 0.056, 0.056, 0.056, 0.056, 0.051, 0.051, 0.051, 0.032, 0.032, 0.024, 0.024, 0.024, 0.024, 0.024, 0.024, 0.024, 0.024, 0.013, 0.013, 0.008, 0.008, 0.008, 0.008, 0.008, 0.0, 0.0, 0.0, 0.0, 0.0, 0.0, 0.0, 0.0, 0.0, 0.0, 0.0, 0.0, 0.0, 0.0, 0.0, 0.0]}, {\"mode\": \"lines+markers\", \"name\": \"Specificity\", \"type\": \"scatter\", \"x\": [0.0, 0.01, 0.02, 0.03, 0.04, 0.05, 0.06, 0.07, 0.08, 0.09, 0.1, 0.11, 0.12, 0.13, 0.14, 0.15, 0.16, 0.17, 0.18, 0.19, 0.2, 0.21, 0.22, 0.23, 0.24, 0.25, 0.26, 0.27, 0.28, 0.29, 0.3, 0.31, 0.32, 0.33, 0.34, 0.35, 0.36, 0.37, 0.38, 0.39, 0.4, 0.41, 0.42, 0.43, 0.44, 0.45, 0.46, 0.47, 0.48, 0.49, 0.51, 0.52, 0.53, 0.54, 0.55, 0.56, 0.57, 0.58, 0.59, 0.6, 0.61, 0.62, 0.63, 0.64, 0.65, 0.66, 0.67, 0.68, 0.69, 0.7, 0.71, 0.72, 0.73, 0.74, 0.75, 0.76, 0.77, 0.78, 0.79, 0.8, 0.81, 0.82, 0.83, 0.84, 0.85, 0.86, 0.87, 0.88, 0.89, 0.9, 0.91, 0.92, 0.93, 0.94, 0.95, 0.96, 0.97, 0.98, 0.99, 1.0], \"y\": [0.0, 0.0, 0.0, 0.0, 0.0, 0.0, 0.0, 0.184, 0.184, 0.469, 0.586, 0.644, 0.644, 0.644, 0.694, 0.727, 0.783, 0.792, 0.792, 0.841, 0.844, 0.871, 0.871, 0.899, 0.911, 0.911, 0.913, 0.913, 0.936, 0.936, 0.947, 0.961, 0.961, 0.972, 0.972, 0.972, 0.972, 0.972, 0.972, 0.972, 0.972, 0.976, 0.987, 0.987, 0.987, 0.99, 0.99, 0.99, 0.99, 0.99, 0.99, 0.991, 0.991, 0.996, 0.996, 0.996, 0.996, 0.996, 0.997, 0.997, 0.997, 0.997, 0.997, 0.997, 0.997, 0.997, 0.997, 0.998, 0.998, 0.998, 0.998, 0.998, 0.998, 0.998, 0.998, 0.998, 0.998, 0.999, 0.999, 1.0, 1.0, 1.0, 1.0, 1.0, 1.0, 1.0, 1.0, 1.0, 1.0, 1.0, 1.0, 1.0, 1.0, 1.0, 1.0, 1.0, 1.0, 1.0, 1.0, 1.0]}, {\"mode\": \"lines+markers\", \"name\": \"F1 score\", \"type\": \"scatter\", \"x\": [0.0, 0.01, 0.02, 0.03, 0.04, 0.05, 0.06, 0.07, 0.08, 0.09, 0.1, 0.11, 0.12, 0.13, 0.14, 0.15, 0.16, 0.17, 0.18, 0.19, 0.2, 0.21, 0.22, 0.23, 0.24, 0.25, 0.26, 0.27, 0.28, 0.29, 0.3, 0.31, 0.32, 0.33, 0.34, 0.35, 0.36, 0.37, 0.38, 0.39, 0.4, 0.41, 0.42, 0.43, 0.44, 0.45, 0.46, 0.47, 0.48, 0.49, 0.51, 0.52, 0.53, 0.54, 0.55, 0.56, 0.57, 0.58, 0.59, 0.6, 0.61, 0.62, 0.63, 0.64, 0.65, 0.66, 0.67, 0.68, 0.69, 0.7, 0.71, 0.72, 0.73, 0.74, 0.75, 0.76, 0.77, 0.78, 0.79, 0.8, 0.81, 0.82, 0.83, 0.84, 0.85, 0.86, 0.87, 0.88, 0.89, 0.9, 0.91, 0.92, 0.93, 0.94, 0.95, 0.96, 0.97, 0.98, 0.99, 1.0], \"y\": [0.016, 0.016, 0.016, 0.016, 0.016, 0.016, 0.016, 0.018, 0.018, 0.024, 0.029, 0.032, 0.032, 0.032, 0.036, 0.038, 0.043, 0.044, 0.044, 0.052, 0.051, 0.052, 0.052, 0.056, 0.061, 0.061, 0.061, 0.061, 0.062, 0.062, 0.062, 0.07, 0.07, 0.074, 0.073, 0.073, 0.073, 0.074, 0.074, 0.073, 0.073, 0.07, 0.083, 0.083, 0.083, 0.086, 0.086, 0.086, 0.086, 0.086, 0.086, 0.082, 0.082, 0.088, 0.088, 0.088, 0.088, 0.088, 0.077, 0.077, 0.077, 0.077, 0.077, 0.077, 0.074, 0.074, 0.074, 0.05, 0.05, 0.039, 0.039, 0.039, 0.039, 0.039, 0.039, 0.039, 0.039, 0.025, 0.025, 0.015, 0.015, 0.015, 0.015, 0.015, 0.0, 0.0, 0.0, 0.0, 0.0, 0.0, 0.0, 0.0, 0.0, 0.0, 0.0, 0.0, 0.0, 0.0, 0.0, 0.0]}],\n",
       "                        {\"template\": {\"data\": {\"bar\": [{\"error_x\": {\"color\": \"#2a3f5f\"}, \"error_y\": {\"color\": \"#2a3f5f\"}, \"marker\": {\"line\": {\"color\": \"#E5ECF6\", \"width\": 0.5}}, \"type\": \"bar\"}], \"barpolar\": [{\"marker\": {\"line\": {\"color\": \"#E5ECF6\", \"width\": 0.5}}, \"type\": \"barpolar\"}], \"carpet\": [{\"aaxis\": {\"endlinecolor\": \"#2a3f5f\", \"gridcolor\": \"white\", \"linecolor\": \"white\", \"minorgridcolor\": \"white\", \"startlinecolor\": \"#2a3f5f\"}, \"baxis\": {\"endlinecolor\": \"#2a3f5f\", \"gridcolor\": \"white\", \"linecolor\": \"white\", \"minorgridcolor\": \"white\", \"startlinecolor\": \"#2a3f5f\"}, \"type\": \"carpet\"}], \"choropleth\": [{\"colorbar\": {\"outlinewidth\": 0, \"ticks\": \"\"}, \"type\": \"choropleth\"}], \"contour\": [{\"colorbar\": {\"outlinewidth\": 0, \"ticks\": \"\"}, \"colorscale\": [[0.0, \"#0d0887\"], [0.1111111111111111, \"#46039f\"], [0.2222222222222222, \"#7201a8\"], [0.3333333333333333, \"#9c179e\"], [0.4444444444444444, \"#bd3786\"], [0.5555555555555556, \"#d8576b\"], [0.6666666666666666, \"#ed7953\"], [0.7777777777777778, \"#fb9f3a\"], [0.8888888888888888, \"#fdca26\"], [1.0, \"#f0f921\"]], \"type\": \"contour\"}], \"contourcarpet\": [{\"colorbar\": {\"outlinewidth\": 0, \"ticks\": \"\"}, \"type\": \"contourcarpet\"}], \"heatmap\": [{\"colorbar\": {\"outlinewidth\": 0, \"ticks\": \"\"}, \"colorscale\": [[0.0, \"#0d0887\"], [0.1111111111111111, \"#46039f\"], [0.2222222222222222, \"#7201a8\"], [0.3333333333333333, \"#9c179e\"], [0.4444444444444444, \"#bd3786\"], [0.5555555555555556, \"#d8576b\"], [0.6666666666666666, \"#ed7953\"], [0.7777777777777778, \"#fb9f3a\"], [0.8888888888888888, \"#fdca26\"], [1.0, \"#f0f921\"]], \"type\": \"heatmap\"}], \"heatmapgl\": [{\"colorbar\": {\"outlinewidth\": 0, \"ticks\": \"\"}, \"colorscale\": [[0.0, \"#0d0887\"], [0.1111111111111111, \"#46039f\"], [0.2222222222222222, \"#7201a8\"], [0.3333333333333333, \"#9c179e\"], [0.4444444444444444, \"#bd3786\"], [0.5555555555555556, \"#d8576b\"], [0.6666666666666666, \"#ed7953\"], [0.7777777777777778, \"#fb9f3a\"], [0.8888888888888888, \"#fdca26\"], [1.0, \"#f0f921\"]], \"type\": \"heatmapgl\"}], \"histogram\": [{\"marker\": {\"colorbar\": {\"outlinewidth\": 0, \"ticks\": \"\"}}, \"type\": \"histogram\"}], \"histogram2d\": [{\"colorbar\": {\"outlinewidth\": 0, \"ticks\": \"\"}, \"colorscale\": [[0.0, \"#0d0887\"], [0.1111111111111111, \"#46039f\"], [0.2222222222222222, \"#7201a8\"], [0.3333333333333333, \"#9c179e\"], [0.4444444444444444, \"#bd3786\"], [0.5555555555555556, \"#d8576b\"], [0.6666666666666666, \"#ed7953\"], [0.7777777777777778, \"#fb9f3a\"], [0.8888888888888888, \"#fdca26\"], [1.0, \"#f0f921\"]], \"type\": \"histogram2d\"}], \"histogram2dcontour\": [{\"colorbar\": {\"outlinewidth\": 0, \"ticks\": \"\"}, \"colorscale\": [[0.0, \"#0d0887\"], [0.1111111111111111, \"#46039f\"], [0.2222222222222222, \"#7201a8\"], [0.3333333333333333, \"#9c179e\"], [0.4444444444444444, \"#bd3786\"], [0.5555555555555556, \"#d8576b\"], [0.6666666666666666, \"#ed7953\"], [0.7777777777777778, \"#fb9f3a\"], [0.8888888888888888, \"#fdca26\"], [1.0, \"#f0f921\"]], \"type\": \"histogram2dcontour\"}], \"mesh3d\": [{\"colorbar\": {\"outlinewidth\": 0, \"ticks\": \"\"}, \"type\": \"mesh3d\"}], \"parcoords\": [{\"line\": {\"colorbar\": {\"outlinewidth\": 0, \"ticks\": \"\"}}, \"type\": \"parcoords\"}], \"pie\": [{\"automargin\": true, \"type\": \"pie\"}], \"scatter\": [{\"marker\": {\"colorbar\": {\"outlinewidth\": 0, \"ticks\": \"\"}}, \"type\": \"scatter\"}], \"scatter3d\": [{\"line\": {\"colorbar\": {\"outlinewidth\": 0, \"ticks\": \"\"}}, \"marker\": {\"colorbar\": {\"outlinewidth\": 0, \"ticks\": \"\"}}, \"type\": \"scatter3d\"}], \"scattercarpet\": [{\"marker\": {\"colorbar\": {\"outlinewidth\": 0, \"ticks\": \"\"}}, \"type\": \"scattercarpet\"}], \"scattergeo\": [{\"marker\": {\"colorbar\": {\"outlinewidth\": 0, \"ticks\": \"\"}}, \"type\": \"scattergeo\"}], \"scattergl\": [{\"marker\": {\"colorbar\": {\"outlinewidth\": 0, \"ticks\": \"\"}}, \"type\": \"scattergl\"}], \"scattermapbox\": [{\"marker\": {\"colorbar\": {\"outlinewidth\": 0, \"ticks\": \"\"}}, \"type\": \"scattermapbox\"}], \"scatterpolar\": [{\"marker\": {\"colorbar\": {\"outlinewidth\": 0, \"ticks\": \"\"}}, \"type\": \"scatterpolar\"}], \"scatterpolargl\": [{\"marker\": {\"colorbar\": {\"outlinewidth\": 0, \"ticks\": \"\"}}, \"type\": \"scatterpolargl\"}], \"scatterternary\": [{\"marker\": {\"colorbar\": {\"outlinewidth\": 0, \"ticks\": \"\"}}, \"type\": \"scatterternary\"}], \"surface\": [{\"colorbar\": {\"outlinewidth\": 0, \"ticks\": \"\"}, \"colorscale\": [[0.0, \"#0d0887\"], [0.1111111111111111, \"#46039f\"], [0.2222222222222222, \"#7201a8\"], [0.3333333333333333, \"#9c179e\"], [0.4444444444444444, \"#bd3786\"], [0.5555555555555556, \"#d8576b\"], [0.6666666666666666, \"#ed7953\"], [0.7777777777777778, \"#fb9f3a\"], [0.8888888888888888, \"#fdca26\"], [1.0, \"#f0f921\"]], \"type\": \"surface\"}], \"table\": [{\"cells\": {\"fill\": {\"color\": \"#EBF0F8\"}, \"line\": {\"color\": \"white\"}}, \"header\": {\"fill\": {\"color\": \"#C8D4E3\"}, \"line\": {\"color\": \"white\"}}, \"type\": \"table\"}]}, \"layout\": {\"annotationdefaults\": {\"arrowcolor\": \"#2a3f5f\", \"arrowhead\": 0, \"arrowwidth\": 1}, \"coloraxis\": {\"colorbar\": {\"outlinewidth\": 0, \"ticks\": \"\"}}, \"colorscale\": {\"diverging\": [[0, \"#8e0152\"], [0.1, \"#c51b7d\"], [0.2, \"#de77ae\"], [0.3, \"#f1b6da\"], [0.4, \"#fde0ef\"], [0.5, \"#f7f7f7\"], [0.6, \"#e6f5d0\"], [0.7, \"#b8e186\"], [0.8, \"#7fbc41\"], [0.9, \"#4d9221\"], [1, \"#276419\"]], \"sequential\": [[0.0, \"#0d0887\"], [0.1111111111111111, \"#46039f\"], [0.2222222222222222, \"#7201a8\"], [0.3333333333333333, \"#9c179e\"], [0.4444444444444444, \"#bd3786\"], [0.5555555555555556, \"#d8576b\"], [0.6666666666666666, \"#ed7953\"], [0.7777777777777778, \"#fb9f3a\"], [0.8888888888888888, \"#fdca26\"], [1.0, \"#f0f921\"]], \"sequentialminus\": [[0.0, \"#0d0887\"], [0.1111111111111111, \"#46039f\"], [0.2222222222222222, \"#7201a8\"], [0.3333333333333333, \"#9c179e\"], [0.4444444444444444, \"#bd3786\"], [0.5555555555555556, \"#d8576b\"], [0.6666666666666666, \"#ed7953\"], [0.7777777777777778, \"#fb9f3a\"], [0.8888888888888888, \"#fdca26\"], [1.0, \"#f0f921\"]]}, \"colorway\": [\"#636efa\", \"#EF553B\", \"#00cc96\", \"#ab63fa\", \"#FFA15A\", \"#19d3f3\", \"#FF6692\", \"#B6E880\", \"#FF97FF\", \"#FECB52\"], \"font\": {\"color\": \"#2a3f5f\"}, \"geo\": {\"bgcolor\": \"white\", \"lakecolor\": \"white\", \"landcolor\": \"#E5ECF6\", \"showlakes\": true, \"showland\": true, \"subunitcolor\": \"white\"}, \"hoverlabel\": {\"align\": \"left\"}, \"hovermode\": \"closest\", \"mapbox\": {\"style\": \"light\"}, \"paper_bgcolor\": \"white\", \"plot_bgcolor\": \"#E5ECF6\", \"polar\": {\"angularaxis\": {\"gridcolor\": \"white\", \"linecolor\": \"white\", \"ticks\": \"\"}, \"bgcolor\": \"#E5ECF6\", \"radialaxis\": {\"gridcolor\": \"white\", \"linecolor\": \"white\", \"ticks\": \"\"}}, \"scene\": {\"xaxis\": {\"backgroundcolor\": \"#E5ECF6\", \"gridcolor\": \"white\", \"gridwidth\": 2, \"linecolor\": \"white\", \"showbackground\": true, \"ticks\": \"\", \"zerolinecolor\": \"white\"}, \"yaxis\": {\"backgroundcolor\": \"#E5ECF6\", \"gridcolor\": \"white\", \"gridwidth\": 2, \"linecolor\": \"white\", \"showbackground\": true, \"ticks\": \"\", \"zerolinecolor\": \"white\"}, \"zaxis\": {\"backgroundcolor\": \"#E5ECF6\", \"gridcolor\": \"white\", \"gridwidth\": 2, \"linecolor\": \"white\", \"showbackground\": true, \"ticks\": \"\", \"zerolinecolor\": \"white\"}}, \"shapedefaults\": {\"line\": {\"color\": \"#2a3f5f\"}}, \"ternary\": {\"aaxis\": {\"gridcolor\": \"white\", \"linecolor\": \"white\", \"ticks\": \"\"}, \"baxis\": {\"gridcolor\": \"white\", \"linecolor\": \"white\", \"ticks\": \"\"}, \"bgcolor\": \"#E5ECF6\", \"caxis\": {\"gridcolor\": \"white\", \"linecolor\": \"white\", \"ticks\": \"\"}}, \"title\": {\"x\": 0.05}, \"xaxis\": {\"automargin\": true, \"gridcolor\": \"white\", \"linecolor\": \"white\", \"ticks\": \"\", \"title\": {\"standoff\": 15}, \"zerolinecolor\": \"white\", \"zerolinewidth\": 2}, \"yaxis\": {\"automargin\": true, \"gridcolor\": \"white\", \"linecolor\": \"white\", \"ticks\": \"\", \"title\": {\"standoff\": 15}, \"zerolinecolor\": \"white\", \"zerolinewidth\": 2}}}, \"title\": {\"text\": \"Metrics Vs Threshold epoch 1\"}, \"xaxis\": {\"title\": {\"text\": \"Thresholds\"}}, \"yaxis\": {\"title\": {\"text\": \"Metric score [0,1]\"}}},\n",
       "                        {\"responsive\": true}\n",
       "                    ).then(function(){\n",
       "                            \n",
       "var gd = document.getElementById('0b38c3e6-f395-43f8-83f7-f642205ba729');\n",
       "var x = new MutationObserver(function (mutations, observer) {{\n",
       "        var display = window.getComputedStyle(gd).display;\n",
       "        if (!display || display === 'none') {{\n",
       "            console.log([gd, 'removed!']);\n",
       "            Plotly.purge(gd);\n",
       "            observer.disconnect();\n",
       "        }}\n",
       "}});\n",
       "\n",
       "// Listen for the removal of the full notebook cells\n",
       "var notebookContainer = gd.closest('#notebook-container');\n",
       "if (notebookContainer) {{\n",
       "    x.observe(notebookContainer, {childList: true});\n",
       "}}\n",
       "\n",
       "// Listen for the clearing of the current output cell\n",
       "var outputEl = gd.closest('.output');\n",
       "if (outputEl) {{\n",
       "    x.observe(outputEl, {childList: true});\n",
       "}}\n",
       "\n",
       "                        })\n",
       "                };\n",
       "                });\n",
       "            </script>\n",
       "        </div>"
      ]
     },
     "metadata": {},
     "output_type": "display_data"
    }
   ],
   "source": [
    "import plotly.graph_objects as go\n",
    "\n",
    "\n",
    "for epoch_num in range(1,2):\n",
    "    \n",
    "    names = list(epoch_stats[\"epoch_\" + str(epoch_num)][1].keys())\n",
    "    \n",
    "    # Create traces\n",
    "    fig = go.Figure()\n",
    "\n",
    "    for name in names:\n",
    "        fig.add_trace(go.Scatter(x=[round(threshold,2) for threshold in thresholds], \n",
    "                                 y=[round(val,3) for val in epoch_stats[\"epoch_\" + str(epoch_num)][1][name]],\n",
    "                                 mode='lines+markers',\n",
    "                                 name=name))\n",
    "\n",
    "    # Edit the layout\n",
    "    fig.update_layout(title='Metrics Vs Threshold epoch ' + str(epoch_num),\n",
    "                       xaxis_title='Thresholds',\n",
    "                       yaxis_title='Metric score [0,1]')\n",
    "\n",
    "    fig.show()"
   ]
  },
  {
   "cell_type": "markdown",
   "metadata": {},
   "source": [
    "## Plot CM metrics"
   ]
  },
  {
   "cell_type": "code",
   "execution_count": 13,
   "metadata": {
    "scrolled": false
   },
   "outputs": [
    {
     "data": {
      "application/vnd.plotly.v1+json": {
       "config": {
        "plotlyServerURL": "https://plot.ly"
       },
       "data": [
        {
         "mode": "lines+markers",
         "name": "TNs",
         "type": "scatter",
         "x": [
          0,
          0.01,
          0.02,
          0.03,
          0.04,
          0.05,
          0.06,
          0.07,
          0.08,
          0.09,
          0.1,
          0.11,
          0.12,
          0.13,
          0.14,
          0.15,
          0.16,
          0.17,
          0.18,
          0.19,
          0.2,
          0.21,
          0.22,
          0.23,
          0.24,
          0.25,
          0.26,
          0.27,
          0.28,
          0.29,
          0.3,
          0.31,
          0.32,
          0.33,
          0.34,
          0.35,
          0.36,
          0.37,
          0.38,
          0.39,
          0.4,
          0.41,
          0.42,
          0.43,
          0.44,
          0.45,
          0.46,
          0.47,
          0.48,
          0.49,
          0.51,
          0.52,
          0.53,
          0.54,
          0.55,
          0.56,
          0.57,
          0.58,
          0.59,
          0.6,
          0.61,
          0.62,
          0.63,
          0.64,
          0.65,
          0.66,
          0.67,
          0.68,
          0.69,
          0.7,
          0.71,
          0.72,
          0.73,
          0.74,
          0.75,
          0.76,
          0.77,
          0.78,
          0.79,
          0.8,
          0.81,
          0.82,
          0.83,
          0.84,
          0.85,
          0.86,
          0.87,
          0.88,
          0.89,
          0.9,
          0.91,
          0.92,
          0.93,
          0.94,
          0.95,
          0.96,
          0.97,
          0.98,
          0.99,
          1
         ],
         "y": [
          0,
          0,
          0,
          0,
          0,
          0,
          0,
          8475,
          8475,
          21589,
          27012,
          29663,
          29663,
          29663,
          31971,
          33486,
          36083,
          36470,
          36475,
          38735,
          38885,
          40121,
          40121,
          41407,
          41950,
          41950,
          42054,
          42054,
          43137,
          43139,
          43652,
          44291,
          44292,
          44761,
          44763,
          44763,
          44766,
          44770,
          44770,
          44803,
          44803,
          44965,
          45472,
          45472,
          45472,
          45627,
          45627,
          45627,
          45628,
          45628,
          45628,
          45674,
          45674,
          45903,
          45903,
          45903,
          45903,
          45903,
          45926,
          45926,
          45926,
          45926,
          45926,
          45926,
          45955,
          45955,
          45955,
          45977,
          45977,
          45994,
          45994,
          45994,
          45994,
          45994,
          45994,
          45994,
          45994,
          46046,
          46046,
          46057,
          46057,
          46057,
          46057,
          46057,
          46072,
          46072,
          46072,
          46072,
          46072,
          46072,
          46072,
          46072,
          46072,
          46072,
          46072,
          46072,
          46072,
          46072,
          46072,
          46072
         ]
        },
        {
         "mode": "lines+markers",
         "name": "FPs",
         "type": "scatter",
         "x": [
          0,
          0.01,
          0.02,
          0.03,
          0.04,
          0.05,
          0.06,
          0.07,
          0.08,
          0.09,
          0.1,
          0.11,
          0.12,
          0.13,
          0.14,
          0.15,
          0.16,
          0.17,
          0.18,
          0.19,
          0.2,
          0.21,
          0.22,
          0.23,
          0.24,
          0.25,
          0.26,
          0.27,
          0.28,
          0.29,
          0.3,
          0.31,
          0.32,
          0.33,
          0.34,
          0.35,
          0.36,
          0.37,
          0.38,
          0.39,
          0.4,
          0.41,
          0.42,
          0.43,
          0.44,
          0.45,
          0.46,
          0.47,
          0.48,
          0.49,
          0.51,
          0.52,
          0.53,
          0.54,
          0.55,
          0.56,
          0.57,
          0.58,
          0.59,
          0.6,
          0.61,
          0.62,
          0.63,
          0.64,
          0.65,
          0.66,
          0.67,
          0.68,
          0.69,
          0.7,
          0.71,
          0.72,
          0.73,
          0.74,
          0.75,
          0.76,
          0.77,
          0.78,
          0.79,
          0.8,
          0.81,
          0.82,
          0.83,
          0.84,
          0.85,
          0.86,
          0.87,
          0.88,
          0.89,
          0.9,
          0.91,
          0.92,
          0.93,
          0.94,
          0.95,
          0.96,
          0.97,
          0.98,
          0.99,
          1
         ],
         "y": [
          46072,
          46072,
          46072,
          46072,
          46072,
          46072,
          46072,
          37597,
          37597,
          24483,
          19060,
          16409,
          16409,
          16409,
          14101,
          12586,
          9989,
          9602,
          9597,
          7337,
          7187,
          5951,
          5951,
          4665,
          4122,
          4122,
          4018,
          4018,
          2935,
          2933,
          2420,
          1781,
          1780,
          1311,
          1309,
          1309,
          1306,
          1302,
          1302,
          1269,
          1269,
          1107,
          600,
          600,
          600,
          445,
          445,
          445,
          444,
          444,
          444,
          398,
          398,
          169,
          169,
          169,
          169,
          169,
          146,
          146,
          146,
          146,
          146,
          146,
          117,
          117,
          117,
          95,
          95,
          78,
          78,
          78,
          78,
          78,
          78,
          78,
          78,
          26,
          26,
          15,
          15,
          15,
          15,
          15,
          0,
          0,
          0,
          0,
          0,
          0,
          0,
          0,
          0,
          0,
          0,
          0,
          0,
          0,
          0,
          0
         ]
        },
        {
         "mode": "lines+markers",
         "name": "FNs",
         "type": "scatter",
         "x": [
          0,
          0.01,
          0.02,
          0.03,
          0.04,
          0.05,
          0.06,
          0.07,
          0.08,
          0.09,
          0.1,
          0.11,
          0.12,
          0.13,
          0.14,
          0.15,
          0.16,
          0.17,
          0.18,
          0.19,
          0.2,
          0.21,
          0.22,
          0.23,
          0.24,
          0.25,
          0.26,
          0.27,
          0.28,
          0.29,
          0.3,
          0.31,
          0.32,
          0.33,
          0.34,
          0.35,
          0.36,
          0.37,
          0.38,
          0.39,
          0.4,
          0.41,
          0.42,
          0.43,
          0.44,
          0.45,
          0.46,
          0.47,
          0.48,
          0.49,
          0.51,
          0.52,
          0.53,
          0.54,
          0.55,
          0.56,
          0.57,
          0.58,
          0.59,
          0.6,
          0.61,
          0.62,
          0.63,
          0.64,
          0.65,
          0.66,
          0.67,
          0.68,
          0.69,
          0.7,
          0.71,
          0.72,
          0.73,
          0.74,
          0.75,
          0.76,
          0.77,
          0.78,
          0.79,
          0.8,
          0.81,
          0.82,
          0.83,
          0.84,
          0.85,
          0.86,
          0.87,
          0.88,
          0.89,
          0.9,
          0.91,
          0.92,
          0.93,
          0.94,
          0.95,
          0.96,
          0.97,
          0.98,
          0.99,
          1
         ],
         "y": [
          0,
          0,
          0,
          0,
          0,
          0,
          0,
          28,
          28,
          72,
          89,
          102,
          102,
          102,
          111,
          126,
          148,
          151,
          151,
          171,
          176,
          206,
          206,
          229,
          233,
          233,
          237,
          237,
          269,
          269,
          286,
          297,
          297,
          310,
          311,
          311,
          311,
          311,
          311,
          313,
          313,
          321,
          333,
          333,
          333,
          338,
          338,
          338,
          338,
          338,
          338,
          342,
          342,
          350,
          350,
          350,
          350,
          350,
          354,
          354,
          354,
          354,
          354,
          354,
          356,
          356,
          356,
          363,
          363,
          366,
          366,
          366,
          366,
          366,
          366,
          366,
          366,
          370,
          370,
          372,
          372,
          372,
          372,
          372,
          375,
          375,
          375,
          375,
          375,
          375,
          375,
          375,
          375,
          375,
          375,
          375,
          375,
          375,
          375,
          375
         ]
        },
        {
         "mode": "lines+markers",
         "name": "TPs",
         "type": "scatter",
         "x": [
          0,
          0.01,
          0.02,
          0.03,
          0.04,
          0.05,
          0.06,
          0.07,
          0.08,
          0.09,
          0.1,
          0.11,
          0.12,
          0.13,
          0.14,
          0.15,
          0.16,
          0.17,
          0.18,
          0.19,
          0.2,
          0.21,
          0.22,
          0.23,
          0.24,
          0.25,
          0.26,
          0.27,
          0.28,
          0.29,
          0.3,
          0.31,
          0.32,
          0.33,
          0.34,
          0.35,
          0.36,
          0.37,
          0.38,
          0.39,
          0.4,
          0.41,
          0.42,
          0.43,
          0.44,
          0.45,
          0.46,
          0.47,
          0.48,
          0.49,
          0.51,
          0.52,
          0.53,
          0.54,
          0.55,
          0.56,
          0.57,
          0.58,
          0.59,
          0.6,
          0.61,
          0.62,
          0.63,
          0.64,
          0.65,
          0.66,
          0.67,
          0.68,
          0.69,
          0.7,
          0.71,
          0.72,
          0.73,
          0.74,
          0.75,
          0.76,
          0.77,
          0.78,
          0.79,
          0.8,
          0.81,
          0.82,
          0.83,
          0.84,
          0.85,
          0.86,
          0.87,
          0.88,
          0.89,
          0.9,
          0.91,
          0.92,
          0.93,
          0.94,
          0.95,
          0.96,
          0.97,
          0.98,
          0.99,
          1
         ],
         "y": [
          375,
          375,
          375,
          375,
          375,
          375,
          375,
          347,
          347,
          303,
          286,
          273,
          273,
          273,
          264,
          249,
          227,
          224,
          224,
          204,
          199,
          169,
          169,
          146,
          142,
          142,
          138,
          138,
          106,
          106,
          89,
          78,
          78,
          65,
          64,
          64,
          64,
          64,
          64,
          62,
          62,
          54,
          42,
          42,
          42,
          37,
          37,
          37,
          37,
          37,
          37,
          33,
          33,
          25,
          25,
          25,
          25,
          25,
          21,
          21,
          21,
          21,
          21,
          21,
          19,
          19,
          19,
          12,
          12,
          9,
          9,
          9,
          9,
          9,
          9,
          9,
          9,
          5,
          5,
          3,
          3,
          3,
          3,
          3,
          0,
          0,
          0,
          0,
          0,
          0,
          0,
          0,
          0,
          0,
          0,
          0,
          0,
          0,
          0,
          0
         ]
        }
       ],
       "layout": {
        "template": {
         "data": {
          "bar": [
           {
            "error_x": {
             "color": "#2a3f5f"
            },
            "error_y": {
             "color": "#2a3f5f"
            },
            "marker": {
             "line": {
              "color": "#E5ECF6",
              "width": 0.5
             }
            },
            "type": "bar"
           }
          ],
          "barpolar": [
           {
            "marker": {
             "line": {
              "color": "#E5ECF6",
              "width": 0.5
             }
            },
            "type": "barpolar"
           }
          ],
          "carpet": [
           {
            "aaxis": {
             "endlinecolor": "#2a3f5f",
             "gridcolor": "white",
             "linecolor": "white",
             "minorgridcolor": "white",
             "startlinecolor": "#2a3f5f"
            },
            "baxis": {
             "endlinecolor": "#2a3f5f",
             "gridcolor": "white",
             "linecolor": "white",
             "minorgridcolor": "white",
             "startlinecolor": "#2a3f5f"
            },
            "type": "carpet"
           }
          ],
          "choropleth": [
           {
            "colorbar": {
             "outlinewidth": 0,
             "ticks": ""
            },
            "type": "choropleth"
           }
          ],
          "contour": [
           {
            "colorbar": {
             "outlinewidth": 0,
             "ticks": ""
            },
            "colorscale": [
             [
              0,
              "#0d0887"
             ],
             [
              0.1111111111111111,
              "#46039f"
             ],
             [
              0.2222222222222222,
              "#7201a8"
             ],
             [
              0.3333333333333333,
              "#9c179e"
             ],
             [
              0.4444444444444444,
              "#bd3786"
             ],
             [
              0.5555555555555556,
              "#d8576b"
             ],
             [
              0.6666666666666666,
              "#ed7953"
             ],
             [
              0.7777777777777778,
              "#fb9f3a"
             ],
             [
              0.8888888888888888,
              "#fdca26"
             ],
             [
              1,
              "#f0f921"
             ]
            ],
            "type": "contour"
           }
          ],
          "contourcarpet": [
           {
            "colorbar": {
             "outlinewidth": 0,
             "ticks": ""
            },
            "type": "contourcarpet"
           }
          ],
          "heatmap": [
           {
            "colorbar": {
             "outlinewidth": 0,
             "ticks": ""
            },
            "colorscale": [
             [
              0,
              "#0d0887"
             ],
             [
              0.1111111111111111,
              "#46039f"
             ],
             [
              0.2222222222222222,
              "#7201a8"
             ],
             [
              0.3333333333333333,
              "#9c179e"
             ],
             [
              0.4444444444444444,
              "#bd3786"
             ],
             [
              0.5555555555555556,
              "#d8576b"
             ],
             [
              0.6666666666666666,
              "#ed7953"
             ],
             [
              0.7777777777777778,
              "#fb9f3a"
             ],
             [
              0.8888888888888888,
              "#fdca26"
             ],
             [
              1,
              "#f0f921"
             ]
            ],
            "type": "heatmap"
           }
          ],
          "heatmapgl": [
           {
            "colorbar": {
             "outlinewidth": 0,
             "ticks": ""
            },
            "colorscale": [
             [
              0,
              "#0d0887"
             ],
             [
              0.1111111111111111,
              "#46039f"
             ],
             [
              0.2222222222222222,
              "#7201a8"
             ],
             [
              0.3333333333333333,
              "#9c179e"
             ],
             [
              0.4444444444444444,
              "#bd3786"
             ],
             [
              0.5555555555555556,
              "#d8576b"
             ],
             [
              0.6666666666666666,
              "#ed7953"
             ],
             [
              0.7777777777777778,
              "#fb9f3a"
             ],
             [
              0.8888888888888888,
              "#fdca26"
             ],
             [
              1,
              "#f0f921"
             ]
            ],
            "type": "heatmapgl"
           }
          ],
          "histogram": [
           {
            "marker": {
             "colorbar": {
              "outlinewidth": 0,
              "ticks": ""
             }
            },
            "type": "histogram"
           }
          ],
          "histogram2d": [
           {
            "colorbar": {
             "outlinewidth": 0,
             "ticks": ""
            },
            "colorscale": [
             [
              0,
              "#0d0887"
             ],
             [
              0.1111111111111111,
              "#46039f"
             ],
             [
              0.2222222222222222,
              "#7201a8"
             ],
             [
              0.3333333333333333,
              "#9c179e"
             ],
             [
              0.4444444444444444,
              "#bd3786"
             ],
             [
              0.5555555555555556,
              "#d8576b"
             ],
             [
              0.6666666666666666,
              "#ed7953"
             ],
             [
              0.7777777777777778,
              "#fb9f3a"
             ],
             [
              0.8888888888888888,
              "#fdca26"
             ],
             [
              1,
              "#f0f921"
             ]
            ],
            "type": "histogram2d"
           }
          ],
          "histogram2dcontour": [
           {
            "colorbar": {
             "outlinewidth": 0,
             "ticks": ""
            },
            "colorscale": [
             [
              0,
              "#0d0887"
             ],
             [
              0.1111111111111111,
              "#46039f"
             ],
             [
              0.2222222222222222,
              "#7201a8"
             ],
             [
              0.3333333333333333,
              "#9c179e"
             ],
             [
              0.4444444444444444,
              "#bd3786"
             ],
             [
              0.5555555555555556,
              "#d8576b"
             ],
             [
              0.6666666666666666,
              "#ed7953"
             ],
             [
              0.7777777777777778,
              "#fb9f3a"
             ],
             [
              0.8888888888888888,
              "#fdca26"
             ],
             [
              1,
              "#f0f921"
             ]
            ],
            "type": "histogram2dcontour"
           }
          ],
          "mesh3d": [
           {
            "colorbar": {
             "outlinewidth": 0,
             "ticks": ""
            },
            "type": "mesh3d"
           }
          ],
          "parcoords": [
           {
            "line": {
             "colorbar": {
              "outlinewidth": 0,
              "ticks": ""
             }
            },
            "type": "parcoords"
           }
          ],
          "pie": [
           {
            "automargin": true,
            "type": "pie"
           }
          ],
          "scatter": [
           {
            "marker": {
             "colorbar": {
              "outlinewidth": 0,
              "ticks": ""
             }
            },
            "type": "scatter"
           }
          ],
          "scatter3d": [
           {
            "line": {
             "colorbar": {
              "outlinewidth": 0,
              "ticks": ""
             }
            },
            "marker": {
             "colorbar": {
              "outlinewidth": 0,
              "ticks": ""
             }
            },
            "type": "scatter3d"
           }
          ],
          "scattercarpet": [
           {
            "marker": {
             "colorbar": {
              "outlinewidth": 0,
              "ticks": ""
             }
            },
            "type": "scattercarpet"
           }
          ],
          "scattergeo": [
           {
            "marker": {
             "colorbar": {
              "outlinewidth": 0,
              "ticks": ""
             }
            },
            "type": "scattergeo"
           }
          ],
          "scattergl": [
           {
            "marker": {
             "colorbar": {
              "outlinewidth": 0,
              "ticks": ""
             }
            },
            "type": "scattergl"
           }
          ],
          "scattermapbox": [
           {
            "marker": {
             "colorbar": {
              "outlinewidth": 0,
              "ticks": ""
             }
            },
            "type": "scattermapbox"
           }
          ],
          "scatterpolar": [
           {
            "marker": {
             "colorbar": {
              "outlinewidth": 0,
              "ticks": ""
             }
            },
            "type": "scatterpolar"
           }
          ],
          "scatterpolargl": [
           {
            "marker": {
             "colorbar": {
              "outlinewidth": 0,
              "ticks": ""
             }
            },
            "type": "scatterpolargl"
           }
          ],
          "scatterternary": [
           {
            "marker": {
             "colorbar": {
              "outlinewidth": 0,
              "ticks": ""
             }
            },
            "type": "scatterternary"
           }
          ],
          "surface": [
           {
            "colorbar": {
             "outlinewidth": 0,
             "ticks": ""
            },
            "colorscale": [
             [
              0,
              "#0d0887"
             ],
             [
              0.1111111111111111,
              "#46039f"
             ],
             [
              0.2222222222222222,
              "#7201a8"
             ],
             [
              0.3333333333333333,
              "#9c179e"
             ],
             [
              0.4444444444444444,
              "#bd3786"
             ],
             [
              0.5555555555555556,
              "#d8576b"
             ],
             [
              0.6666666666666666,
              "#ed7953"
             ],
             [
              0.7777777777777778,
              "#fb9f3a"
             ],
             [
              0.8888888888888888,
              "#fdca26"
             ],
             [
              1,
              "#f0f921"
             ]
            ],
            "type": "surface"
           }
          ],
          "table": [
           {
            "cells": {
             "fill": {
              "color": "#EBF0F8"
             },
             "line": {
              "color": "white"
             }
            },
            "header": {
             "fill": {
              "color": "#C8D4E3"
             },
             "line": {
              "color": "white"
             }
            },
            "type": "table"
           }
          ]
         },
         "layout": {
          "annotationdefaults": {
           "arrowcolor": "#2a3f5f",
           "arrowhead": 0,
           "arrowwidth": 1
          },
          "coloraxis": {
           "colorbar": {
            "outlinewidth": 0,
            "ticks": ""
           }
          },
          "colorscale": {
           "diverging": [
            [
             0,
             "#8e0152"
            ],
            [
             0.1,
             "#c51b7d"
            ],
            [
             0.2,
             "#de77ae"
            ],
            [
             0.3,
             "#f1b6da"
            ],
            [
             0.4,
             "#fde0ef"
            ],
            [
             0.5,
             "#f7f7f7"
            ],
            [
             0.6,
             "#e6f5d0"
            ],
            [
             0.7,
             "#b8e186"
            ],
            [
             0.8,
             "#7fbc41"
            ],
            [
             0.9,
             "#4d9221"
            ],
            [
             1,
             "#276419"
            ]
           ],
           "sequential": [
            [
             0,
             "#0d0887"
            ],
            [
             0.1111111111111111,
             "#46039f"
            ],
            [
             0.2222222222222222,
             "#7201a8"
            ],
            [
             0.3333333333333333,
             "#9c179e"
            ],
            [
             0.4444444444444444,
             "#bd3786"
            ],
            [
             0.5555555555555556,
             "#d8576b"
            ],
            [
             0.6666666666666666,
             "#ed7953"
            ],
            [
             0.7777777777777778,
             "#fb9f3a"
            ],
            [
             0.8888888888888888,
             "#fdca26"
            ],
            [
             1,
             "#f0f921"
            ]
           ],
           "sequentialminus": [
            [
             0,
             "#0d0887"
            ],
            [
             0.1111111111111111,
             "#46039f"
            ],
            [
             0.2222222222222222,
             "#7201a8"
            ],
            [
             0.3333333333333333,
             "#9c179e"
            ],
            [
             0.4444444444444444,
             "#bd3786"
            ],
            [
             0.5555555555555556,
             "#d8576b"
            ],
            [
             0.6666666666666666,
             "#ed7953"
            ],
            [
             0.7777777777777778,
             "#fb9f3a"
            ],
            [
             0.8888888888888888,
             "#fdca26"
            ],
            [
             1,
             "#f0f921"
            ]
           ]
          },
          "colorway": [
           "#636efa",
           "#EF553B",
           "#00cc96",
           "#ab63fa",
           "#FFA15A",
           "#19d3f3",
           "#FF6692",
           "#B6E880",
           "#FF97FF",
           "#FECB52"
          ],
          "font": {
           "color": "#2a3f5f"
          },
          "geo": {
           "bgcolor": "white",
           "lakecolor": "white",
           "landcolor": "#E5ECF6",
           "showlakes": true,
           "showland": true,
           "subunitcolor": "white"
          },
          "hoverlabel": {
           "align": "left"
          },
          "hovermode": "closest",
          "mapbox": {
           "style": "light"
          },
          "paper_bgcolor": "white",
          "plot_bgcolor": "#E5ECF6",
          "polar": {
           "angularaxis": {
            "gridcolor": "white",
            "linecolor": "white",
            "ticks": ""
           },
           "bgcolor": "#E5ECF6",
           "radialaxis": {
            "gridcolor": "white",
            "linecolor": "white",
            "ticks": ""
           }
          },
          "scene": {
           "xaxis": {
            "backgroundcolor": "#E5ECF6",
            "gridcolor": "white",
            "gridwidth": 2,
            "linecolor": "white",
            "showbackground": true,
            "ticks": "",
            "zerolinecolor": "white"
           },
           "yaxis": {
            "backgroundcolor": "#E5ECF6",
            "gridcolor": "white",
            "gridwidth": 2,
            "linecolor": "white",
            "showbackground": true,
            "ticks": "",
            "zerolinecolor": "white"
           },
           "zaxis": {
            "backgroundcolor": "#E5ECF6",
            "gridcolor": "white",
            "gridwidth": 2,
            "linecolor": "white",
            "showbackground": true,
            "ticks": "",
            "zerolinecolor": "white"
           }
          },
          "shapedefaults": {
           "line": {
            "color": "#2a3f5f"
           }
          },
          "ternary": {
           "aaxis": {
            "gridcolor": "white",
            "linecolor": "white",
            "ticks": ""
           },
           "baxis": {
            "gridcolor": "white",
            "linecolor": "white",
            "ticks": ""
           },
           "bgcolor": "#E5ECF6",
           "caxis": {
            "gridcolor": "white",
            "linecolor": "white",
            "ticks": ""
           }
          },
          "title": {
           "x": 0.05
          },
          "xaxis": {
           "automargin": true,
           "gridcolor": "white",
           "linecolor": "white",
           "ticks": "",
           "title": {
            "standoff": 15
           },
           "zerolinecolor": "white",
           "zerolinewidth": 2
          },
          "yaxis": {
           "automargin": true,
           "gridcolor": "white",
           "linecolor": "white",
           "ticks": "",
           "title": {
            "standoff": 15
           },
           "zerolinecolor": "white",
           "zerolinewidth": 2
          }
         }
        },
        "title": {
         "text": "CM Metrics Vs Threshold epoch 1"
        },
        "xaxis": {
         "title": {
          "text": "Thresholds"
         }
        },
        "yaxis": {
         "title": {
          "text": "Metric count"
         }
        }
       }
      },
      "text/html": [
       "<div>\n",
       "        \n",
       "        \n",
       "            <div id=\"b4468af3-3f06-4a32-bea8-e93c41dcaad4\" class=\"plotly-graph-div\" style=\"height:525px; width:100%;\"></div>\n",
       "            <script type=\"text/javascript\">\n",
       "                require([\"plotly\"], function(Plotly) {\n",
       "                    window.PLOTLYENV=window.PLOTLYENV || {};\n",
       "                    \n",
       "                if (document.getElementById(\"b4468af3-3f06-4a32-bea8-e93c41dcaad4\")) {\n",
       "                    Plotly.newPlot(\n",
       "                        'b4468af3-3f06-4a32-bea8-e93c41dcaad4',\n",
       "                        [{\"mode\": \"lines+markers\", \"name\": \"TNs\", \"type\": \"scatter\", \"x\": [0.0, 0.01, 0.02, 0.03, 0.04, 0.05, 0.06, 0.07, 0.08, 0.09, 0.1, 0.11, 0.12, 0.13, 0.14, 0.15, 0.16, 0.17, 0.18, 0.19, 0.2, 0.21, 0.22, 0.23, 0.24, 0.25, 0.26, 0.27, 0.28, 0.29, 0.3, 0.31, 0.32, 0.33, 0.34, 0.35, 0.36, 0.37, 0.38, 0.39, 0.4, 0.41, 0.42, 0.43, 0.44, 0.45, 0.46, 0.47, 0.48, 0.49, 0.51, 0.52, 0.53, 0.54, 0.55, 0.56, 0.57, 0.58, 0.59, 0.6, 0.61, 0.62, 0.63, 0.64, 0.65, 0.66, 0.67, 0.68, 0.69, 0.7, 0.71, 0.72, 0.73, 0.74, 0.75, 0.76, 0.77, 0.78, 0.79, 0.8, 0.81, 0.82, 0.83, 0.84, 0.85, 0.86, 0.87, 0.88, 0.89, 0.9, 0.91, 0.92, 0.93, 0.94, 0.95, 0.96, 0.97, 0.98, 0.99, 1.0], \"y\": [0, 0, 0, 0, 0, 0, 0, 8475, 8475, 21589, 27012, 29663, 29663, 29663, 31971, 33486, 36083, 36470, 36475, 38735, 38885, 40121, 40121, 41407, 41950, 41950, 42054, 42054, 43137, 43139, 43652, 44291, 44292, 44761, 44763, 44763, 44766, 44770, 44770, 44803, 44803, 44965, 45472, 45472, 45472, 45627, 45627, 45627, 45628, 45628, 45628, 45674, 45674, 45903, 45903, 45903, 45903, 45903, 45926, 45926, 45926, 45926, 45926, 45926, 45955, 45955, 45955, 45977, 45977, 45994, 45994, 45994, 45994, 45994, 45994, 45994, 45994, 46046, 46046, 46057, 46057, 46057, 46057, 46057, 46072, 46072, 46072, 46072, 46072, 46072, 46072, 46072, 46072, 46072, 46072, 46072, 46072, 46072, 46072, 46072]}, {\"mode\": \"lines+markers\", \"name\": \"FPs\", \"type\": \"scatter\", \"x\": [0.0, 0.01, 0.02, 0.03, 0.04, 0.05, 0.06, 0.07, 0.08, 0.09, 0.1, 0.11, 0.12, 0.13, 0.14, 0.15, 0.16, 0.17, 0.18, 0.19, 0.2, 0.21, 0.22, 0.23, 0.24, 0.25, 0.26, 0.27, 0.28, 0.29, 0.3, 0.31, 0.32, 0.33, 0.34, 0.35, 0.36, 0.37, 0.38, 0.39, 0.4, 0.41, 0.42, 0.43, 0.44, 0.45, 0.46, 0.47, 0.48, 0.49, 0.51, 0.52, 0.53, 0.54, 0.55, 0.56, 0.57, 0.58, 0.59, 0.6, 0.61, 0.62, 0.63, 0.64, 0.65, 0.66, 0.67, 0.68, 0.69, 0.7, 0.71, 0.72, 0.73, 0.74, 0.75, 0.76, 0.77, 0.78, 0.79, 0.8, 0.81, 0.82, 0.83, 0.84, 0.85, 0.86, 0.87, 0.88, 0.89, 0.9, 0.91, 0.92, 0.93, 0.94, 0.95, 0.96, 0.97, 0.98, 0.99, 1.0], \"y\": [46072, 46072, 46072, 46072, 46072, 46072, 46072, 37597, 37597, 24483, 19060, 16409, 16409, 16409, 14101, 12586, 9989, 9602, 9597, 7337, 7187, 5951, 5951, 4665, 4122, 4122, 4018, 4018, 2935, 2933, 2420, 1781, 1780, 1311, 1309, 1309, 1306, 1302, 1302, 1269, 1269, 1107, 600, 600, 600, 445, 445, 445, 444, 444, 444, 398, 398, 169, 169, 169, 169, 169, 146, 146, 146, 146, 146, 146, 117, 117, 117, 95, 95, 78, 78, 78, 78, 78, 78, 78, 78, 26, 26, 15, 15, 15, 15, 15, 0, 0, 0, 0, 0, 0, 0, 0, 0, 0, 0, 0, 0, 0, 0, 0]}, {\"mode\": \"lines+markers\", \"name\": \"FNs\", \"type\": \"scatter\", \"x\": [0.0, 0.01, 0.02, 0.03, 0.04, 0.05, 0.06, 0.07, 0.08, 0.09, 0.1, 0.11, 0.12, 0.13, 0.14, 0.15, 0.16, 0.17, 0.18, 0.19, 0.2, 0.21, 0.22, 0.23, 0.24, 0.25, 0.26, 0.27, 0.28, 0.29, 0.3, 0.31, 0.32, 0.33, 0.34, 0.35, 0.36, 0.37, 0.38, 0.39, 0.4, 0.41, 0.42, 0.43, 0.44, 0.45, 0.46, 0.47, 0.48, 0.49, 0.51, 0.52, 0.53, 0.54, 0.55, 0.56, 0.57, 0.58, 0.59, 0.6, 0.61, 0.62, 0.63, 0.64, 0.65, 0.66, 0.67, 0.68, 0.69, 0.7, 0.71, 0.72, 0.73, 0.74, 0.75, 0.76, 0.77, 0.78, 0.79, 0.8, 0.81, 0.82, 0.83, 0.84, 0.85, 0.86, 0.87, 0.88, 0.89, 0.9, 0.91, 0.92, 0.93, 0.94, 0.95, 0.96, 0.97, 0.98, 0.99, 1.0], \"y\": [0, 0, 0, 0, 0, 0, 0, 28, 28, 72, 89, 102, 102, 102, 111, 126, 148, 151, 151, 171, 176, 206, 206, 229, 233, 233, 237, 237, 269, 269, 286, 297, 297, 310, 311, 311, 311, 311, 311, 313, 313, 321, 333, 333, 333, 338, 338, 338, 338, 338, 338, 342, 342, 350, 350, 350, 350, 350, 354, 354, 354, 354, 354, 354, 356, 356, 356, 363, 363, 366, 366, 366, 366, 366, 366, 366, 366, 370, 370, 372, 372, 372, 372, 372, 375, 375, 375, 375, 375, 375, 375, 375, 375, 375, 375, 375, 375, 375, 375, 375]}, {\"mode\": \"lines+markers\", \"name\": \"TPs\", \"type\": \"scatter\", \"x\": [0.0, 0.01, 0.02, 0.03, 0.04, 0.05, 0.06, 0.07, 0.08, 0.09, 0.1, 0.11, 0.12, 0.13, 0.14, 0.15, 0.16, 0.17, 0.18, 0.19, 0.2, 0.21, 0.22, 0.23, 0.24, 0.25, 0.26, 0.27, 0.28, 0.29, 0.3, 0.31, 0.32, 0.33, 0.34, 0.35, 0.36, 0.37, 0.38, 0.39, 0.4, 0.41, 0.42, 0.43, 0.44, 0.45, 0.46, 0.47, 0.48, 0.49, 0.51, 0.52, 0.53, 0.54, 0.55, 0.56, 0.57, 0.58, 0.59, 0.6, 0.61, 0.62, 0.63, 0.64, 0.65, 0.66, 0.67, 0.68, 0.69, 0.7, 0.71, 0.72, 0.73, 0.74, 0.75, 0.76, 0.77, 0.78, 0.79, 0.8, 0.81, 0.82, 0.83, 0.84, 0.85, 0.86, 0.87, 0.88, 0.89, 0.9, 0.91, 0.92, 0.93, 0.94, 0.95, 0.96, 0.97, 0.98, 0.99, 1.0], \"y\": [375, 375, 375, 375, 375, 375, 375, 347, 347, 303, 286, 273, 273, 273, 264, 249, 227, 224, 224, 204, 199, 169, 169, 146, 142, 142, 138, 138, 106, 106, 89, 78, 78, 65, 64, 64, 64, 64, 64, 62, 62, 54, 42, 42, 42, 37, 37, 37, 37, 37, 37, 33, 33, 25, 25, 25, 25, 25, 21, 21, 21, 21, 21, 21, 19, 19, 19, 12, 12, 9, 9, 9, 9, 9, 9, 9, 9, 5, 5, 3, 3, 3, 3, 3, 0, 0, 0, 0, 0, 0, 0, 0, 0, 0, 0, 0, 0, 0, 0, 0]}],\n",
       "                        {\"template\": {\"data\": {\"bar\": [{\"error_x\": {\"color\": \"#2a3f5f\"}, \"error_y\": {\"color\": \"#2a3f5f\"}, \"marker\": {\"line\": {\"color\": \"#E5ECF6\", \"width\": 0.5}}, \"type\": \"bar\"}], \"barpolar\": [{\"marker\": {\"line\": {\"color\": \"#E5ECF6\", \"width\": 0.5}}, \"type\": \"barpolar\"}], \"carpet\": [{\"aaxis\": {\"endlinecolor\": \"#2a3f5f\", \"gridcolor\": \"white\", \"linecolor\": \"white\", \"minorgridcolor\": \"white\", \"startlinecolor\": \"#2a3f5f\"}, \"baxis\": {\"endlinecolor\": \"#2a3f5f\", \"gridcolor\": \"white\", \"linecolor\": \"white\", \"minorgridcolor\": \"white\", \"startlinecolor\": \"#2a3f5f\"}, \"type\": \"carpet\"}], \"choropleth\": [{\"colorbar\": {\"outlinewidth\": 0, \"ticks\": \"\"}, \"type\": \"choropleth\"}], \"contour\": [{\"colorbar\": {\"outlinewidth\": 0, \"ticks\": \"\"}, \"colorscale\": [[0.0, \"#0d0887\"], [0.1111111111111111, \"#46039f\"], [0.2222222222222222, \"#7201a8\"], [0.3333333333333333, \"#9c179e\"], [0.4444444444444444, \"#bd3786\"], [0.5555555555555556, \"#d8576b\"], [0.6666666666666666, \"#ed7953\"], [0.7777777777777778, \"#fb9f3a\"], [0.8888888888888888, \"#fdca26\"], [1.0, \"#f0f921\"]], \"type\": \"contour\"}], \"contourcarpet\": [{\"colorbar\": {\"outlinewidth\": 0, \"ticks\": \"\"}, \"type\": \"contourcarpet\"}], \"heatmap\": [{\"colorbar\": {\"outlinewidth\": 0, \"ticks\": \"\"}, \"colorscale\": [[0.0, \"#0d0887\"], [0.1111111111111111, \"#46039f\"], [0.2222222222222222, \"#7201a8\"], [0.3333333333333333, \"#9c179e\"], [0.4444444444444444, \"#bd3786\"], [0.5555555555555556, \"#d8576b\"], [0.6666666666666666, \"#ed7953\"], [0.7777777777777778, \"#fb9f3a\"], [0.8888888888888888, \"#fdca26\"], [1.0, \"#f0f921\"]], \"type\": \"heatmap\"}], \"heatmapgl\": [{\"colorbar\": {\"outlinewidth\": 0, \"ticks\": \"\"}, \"colorscale\": [[0.0, \"#0d0887\"], [0.1111111111111111, \"#46039f\"], [0.2222222222222222, \"#7201a8\"], [0.3333333333333333, \"#9c179e\"], [0.4444444444444444, \"#bd3786\"], [0.5555555555555556, \"#d8576b\"], [0.6666666666666666, \"#ed7953\"], [0.7777777777777778, \"#fb9f3a\"], [0.8888888888888888, \"#fdca26\"], [1.0, \"#f0f921\"]], \"type\": \"heatmapgl\"}], \"histogram\": [{\"marker\": {\"colorbar\": {\"outlinewidth\": 0, \"ticks\": \"\"}}, \"type\": \"histogram\"}], \"histogram2d\": [{\"colorbar\": {\"outlinewidth\": 0, \"ticks\": \"\"}, \"colorscale\": [[0.0, \"#0d0887\"], [0.1111111111111111, \"#46039f\"], [0.2222222222222222, \"#7201a8\"], [0.3333333333333333, \"#9c179e\"], [0.4444444444444444, \"#bd3786\"], [0.5555555555555556, \"#d8576b\"], [0.6666666666666666, \"#ed7953\"], [0.7777777777777778, \"#fb9f3a\"], [0.8888888888888888, \"#fdca26\"], [1.0, \"#f0f921\"]], \"type\": \"histogram2d\"}], \"histogram2dcontour\": [{\"colorbar\": {\"outlinewidth\": 0, \"ticks\": \"\"}, \"colorscale\": [[0.0, \"#0d0887\"], [0.1111111111111111, \"#46039f\"], [0.2222222222222222, \"#7201a8\"], [0.3333333333333333, \"#9c179e\"], [0.4444444444444444, \"#bd3786\"], [0.5555555555555556, \"#d8576b\"], [0.6666666666666666, \"#ed7953\"], [0.7777777777777778, \"#fb9f3a\"], [0.8888888888888888, \"#fdca26\"], [1.0, \"#f0f921\"]], \"type\": \"histogram2dcontour\"}], \"mesh3d\": [{\"colorbar\": {\"outlinewidth\": 0, \"ticks\": \"\"}, \"type\": \"mesh3d\"}], \"parcoords\": [{\"line\": {\"colorbar\": {\"outlinewidth\": 0, \"ticks\": \"\"}}, \"type\": \"parcoords\"}], \"pie\": [{\"automargin\": true, \"type\": \"pie\"}], \"scatter\": [{\"marker\": {\"colorbar\": {\"outlinewidth\": 0, \"ticks\": \"\"}}, \"type\": \"scatter\"}], \"scatter3d\": [{\"line\": {\"colorbar\": {\"outlinewidth\": 0, \"ticks\": \"\"}}, \"marker\": {\"colorbar\": {\"outlinewidth\": 0, \"ticks\": \"\"}}, \"type\": \"scatter3d\"}], \"scattercarpet\": [{\"marker\": {\"colorbar\": {\"outlinewidth\": 0, \"ticks\": \"\"}}, \"type\": \"scattercarpet\"}], \"scattergeo\": [{\"marker\": {\"colorbar\": {\"outlinewidth\": 0, \"ticks\": \"\"}}, \"type\": \"scattergeo\"}], \"scattergl\": [{\"marker\": {\"colorbar\": {\"outlinewidth\": 0, \"ticks\": \"\"}}, \"type\": \"scattergl\"}], \"scattermapbox\": [{\"marker\": {\"colorbar\": {\"outlinewidth\": 0, \"ticks\": \"\"}}, \"type\": \"scattermapbox\"}], \"scatterpolar\": [{\"marker\": {\"colorbar\": {\"outlinewidth\": 0, \"ticks\": \"\"}}, \"type\": \"scatterpolar\"}], \"scatterpolargl\": [{\"marker\": {\"colorbar\": {\"outlinewidth\": 0, \"ticks\": \"\"}}, \"type\": \"scatterpolargl\"}], \"scatterternary\": [{\"marker\": {\"colorbar\": {\"outlinewidth\": 0, \"ticks\": \"\"}}, \"type\": \"scatterternary\"}], \"surface\": [{\"colorbar\": {\"outlinewidth\": 0, \"ticks\": \"\"}, \"colorscale\": [[0.0, \"#0d0887\"], [0.1111111111111111, \"#46039f\"], [0.2222222222222222, \"#7201a8\"], [0.3333333333333333, \"#9c179e\"], [0.4444444444444444, \"#bd3786\"], [0.5555555555555556, \"#d8576b\"], [0.6666666666666666, \"#ed7953\"], [0.7777777777777778, \"#fb9f3a\"], [0.8888888888888888, \"#fdca26\"], [1.0, \"#f0f921\"]], \"type\": \"surface\"}], \"table\": [{\"cells\": {\"fill\": {\"color\": \"#EBF0F8\"}, \"line\": {\"color\": \"white\"}}, \"header\": {\"fill\": {\"color\": \"#C8D4E3\"}, \"line\": {\"color\": \"white\"}}, \"type\": \"table\"}]}, \"layout\": {\"annotationdefaults\": {\"arrowcolor\": \"#2a3f5f\", \"arrowhead\": 0, \"arrowwidth\": 1}, \"coloraxis\": {\"colorbar\": {\"outlinewidth\": 0, \"ticks\": \"\"}}, \"colorscale\": {\"diverging\": [[0, \"#8e0152\"], [0.1, \"#c51b7d\"], [0.2, \"#de77ae\"], [0.3, \"#f1b6da\"], [0.4, \"#fde0ef\"], [0.5, \"#f7f7f7\"], [0.6, \"#e6f5d0\"], [0.7, \"#b8e186\"], [0.8, \"#7fbc41\"], [0.9, \"#4d9221\"], [1, \"#276419\"]], \"sequential\": [[0.0, \"#0d0887\"], [0.1111111111111111, \"#46039f\"], [0.2222222222222222, \"#7201a8\"], [0.3333333333333333, \"#9c179e\"], [0.4444444444444444, \"#bd3786\"], [0.5555555555555556, \"#d8576b\"], [0.6666666666666666, \"#ed7953\"], [0.7777777777777778, \"#fb9f3a\"], [0.8888888888888888, \"#fdca26\"], [1.0, \"#f0f921\"]], \"sequentialminus\": [[0.0, \"#0d0887\"], [0.1111111111111111, \"#46039f\"], [0.2222222222222222, \"#7201a8\"], [0.3333333333333333, \"#9c179e\"], [0.4444444444444444, \"#bd3786\"], [0.5555555555555556, \"#d8576b\"], [0.6666666666666666, \"#ed7953\"], [0.7777777777777778, \"#fb9f3a\"], [0.8888888888888888, \"#fdca26\"], [1.0, \"#f0f921\"]]}, \"colorway\": [\"#636efa\", \"#EF553B\", \"#00cc96\", \"#ab63fa\", \"#FFA15A\", \"#19d3f3\", \"#FF6692\", \"#B6E880\", \"#FF97FF\", \"#FECB52\"], \"font\": {\"color\": \"#2a3f5f\"}, \"geo\": {\"bgcolor\": \"white\", \"lakecolor\": \"white\", \"landcolor\": \"#E5ECF6\", \"showlakes\": true, \"showland\": true, \"subunitcolor\": \"white\"}, \"hoverlabel\": {\"align\": \"left\"}, \"hovermode\": \"closest\", \"mapbox\": {\"style\": \"light\"}, \"paper_bgcolor\": \"white\", \"plot_bgcolor\": \"#E5ECF6\", \"polar\": {\"angularaxis\": {\"gridcolor\": \"white\", \"linecolor\": \"white\", \"ticks\": \"\"}, \"bgcolor\": \"#E5ECF6\", \"radialaxis\": {\"gridcolor\": \"white\", \"linecolor\": \"white\", \"ticks\": \"\"}}, \"scene\": {\"xaxis\": {\"backgroundcolor\": \"#E5ECF6\", \"gridcolor\": \"white\", \"gridwidth\": 2, \"linecolor\": \"white\", \"showbackground\": true, \"ticks\": \"\", \"zerolinecolor\": \"white\"}, \"yaxis\": {\"backgroundcolor\": \"#E5ECF6\", \"gridcolor\": \"white\", \"gridwidth\": 2, \"linecolor\": \"white\", \"showbackground\": true, \"ticks\": \"\", \"zerolinecolor\": \"white\"}, \"zaxis\": {\"backgroundcolor\": \"#E5ECF6\", \"gridcolor\": \"white\", \"gridwidth\": 2, \"linecolor\": \"white\", \"showbackground\": true, \"ticks\": \"\", \"zerolinecolor\": \"white\"}}, \"shapedefaults\": {\"line\": {\"color\": \"#2a3f5f\"}}, \"ternary\": {\"aaxis\": {\"gridcolor\": \"white\", \"linecolor\": \"white\", \"ticks\": \"\"}, \"baxis\": {\"gridcolor\": \"white\", \"linecolor\": \"white\", \"ticks\": \"\"}, \"bgcolor\": \"#E5ECF6\", \"caxis\": {\"gridcolor\": \"white\", \"linecolor\": \"white\", \"ticks\": \"\"}}, \"title\": {\"x\": 0.05}, \"xaxis\": {\"automargin\": true, \"gridcolor\": \"white\", \"linecolor\": \"white\", \"ticks\": \"\", \"title\": {\"standoff\": 15}, \"zerolinecolor\": \"white\", \"zerolinewidth\": 2}, \"yaxis\": {\"automargin\": true, \"gridcolor\": \"white\", \"linecolor\": \"white\", \"ticks\": \"\", \"title\": {\"standoff\": 15}, \"zerolinecolor\": \"white\", \"zerolinewidth\": 2}}}, \"title\": {\"text\": \"CM Metrics Vs Threshold epoch 1\"}, \"xaxis\": {\"title\": {\"text\": \"Thresholds\"}}, \"yaxis\": {\"title\": {\"text\": \"Metric count\"}}},\n",
       "                        {\"responsive\": true}\n",
       "                    ).then(function(){\n",
       "                            \n",
       "var gd = document.getElementById('b4468af3-3f06-4a32-bea8-e93c41dcaad4');\n",
       "var x = new MutationObserver(function (mutations, observer) {{\n",
       "        var display = window.getComputedStyle(gd).display;\n",
       "        if (!display || display === 'none') {{\n",
       "            console.log([gd, 'removed!']);\n",
       "            Plotly.purge(gd);\n",
       "            observer.disconnect();\n",
       "        }}\n",
       "}});\n",
       "\n",
       "// Listen for the removal of the full notebook cells\n",
       "var notebookContainer = gd.closest('#notebook-container');\n",
       "if (notebookContainer) {{\n",
       "    x.observe(notebookContainer, {childList: true});\n",
       "}}\n",
       "\n",
       "// Listen for the clearing of the current output cell\n",
       "var outputEl = gd.closest('.output');\n",
       "if (outputEl) {{\n",
       "    x.observe(outputEl, {childList: true});\n",
       "}}\n",
       "\n",
       "                        })\n",
       "                };\n",
       "                });\n",
       "            </script>\n",
       "        </div>"
      ]
     },
     "metadata": {},
     "output_type": "display_data"
    }
   ],
   "source": [
    "import plotly.graph_objects as go\n",
    "\n",
    "\n",
    "for epoch_num in range(1,2):\n",
    "    \n",
    "    names = list(epoch_stats[\"epoch_\" + str(epoch_num)][0].keys())\n",
    "    \n",
    "    # Create traces\n",
    "    fig = go.Figure()\n",
    "\n",
    "    for name in names:\n",
    "        fig.add_trace(go.Scatter(x=[round(threshold,2) for threshold in thresholds], \n",
    "                                 y=epoch_stats[\"epoch_\" + str(epoch_num)][0][name],\n",
    "                                 mode='lines+markers',\n",
    "                                 name=name))\n",
    "\n",
    "    # Edit the layout\n",
    "    fig.update_layout(title='CM Metrics Vs Threshold epoch ' + str(epoch_num),\n",
    "                       xaxis_title='Thresholds',\n",
    "                       yaxis_title='Metric count')\n",
    "\n",
    "    fig.show()"
   ]
  },
  {
   "cell_type": "markdown",
   "metadata": {},
   "source": [
    "# Evaluation after choosing threshold"
   ]
  },
  {
   "cell_type": "code",
   "execution_count": 23,
   "metadata": {
    "scrolled": false
   },
   "outputs": [
    {
     "name": "stdout",
     "output_type": "stream",
     "text": [
      "cure_ckd_egfr_registry_preprocessed_project_preproc_data_discretized_UCLA_train_with_DBN_predictions.csv\n",
      "epoch 1\n",
      "AUC ROC: \n",
      "0.766575037709348\n",
      "AP: \n",
      "0.04211919642714291\n",
      "TN, FP, FN, TP :\n",
      "96346 41776 343 876\n",
      "Precision, Recall, Spec, F1 score :\n",
      "0.020538310044077652 0.7186218211648893 0.6975427520597732 0.039935264753481796\n",
      "\n",
      "\n",
      "cure_ckd_egfr_registry_preprocessed_project_preproc_data_discretized_UCLA_valid_with_DBN_predictions.csv\n",
      "epoch 1\n",
      "AUC ROC: \n",
      "0.7373884354922731\n",
      "AP: \n",
      "0.033472963560965296\n",
      "TN, FP, FN, TP :\n",
      "31971 14101 111 264\n",
      "Precision, Recall, Spec, F1 score :\n",
      "0.01837800208840933 0.704 0.6939355790935926 0.03582089552238806\n",
      "\n",
      "\n",
      "cure_ckd_egfr_registry_preprocessed_project_preproc_data_discretized_UCLA_test_with_DBN_predictions.csv\n",
      "epoch 1\n",
      "AUC ROC: \n",
      "0.7638874005511712\n",
      "AP: \n",
      "0.03308346028000504\n",
      "TN, FP, FN, TP :\n",
      "31902 14138 116 291\n",
      "Precision, Recall, Spec, F1 score :\n",
      "0.020167717790560678 0.714987714987715 0.6929192006950478 0.039228902669183066\n",
      "\n",
      "\n",
      "Prov_cure_ckd_egfr_registry_preprocessed_project_preproc_data_discretized_using_UCLA_discritizer_with_DBN_predictions.csv\n",
      "epoch 1\n",
      "AUC ROC: \n",
      "0.7081857000982982\n",
      "AP: \n",
      "0.015688264049909997\n",
      "TN, FP, FN, TP :\n",
      "1786574 881102 5311 10370\n",
      "Precision, Recall, Spec, F1 score :\n",
      "0.01163244611159969 0.661309865442255 0.6697117640972892 0.02286273649538722\n",
      "\n",
      "\n"
     ]
    }
   ],
   "source": [
    "filenames = [\n",
    "        \"../Data/genie_datasets/DBN_predictions/all_var_BN_model/cure_ckd_egfr_registry_preprocessed_project_preproc_data_discretized_UCLA_train_with_DBN_predictions.csv\",\n",
    "        \"../Data/genie_datasets/DBN_predictions/all_var_BN_model/cure_ckd_egfr_registry_preprocessed_project_preproc_data_discretized_UCLA_valid_with_DBN_predictions.csv\",\n",
    "        \"../Data/genie_datasets/DBN_predictions/all_var_BN_model/cure_ckd_egfr_registry_preprocessed_project_preproc_data_discretized_UCLA_test_with_DBN_predictions.csv\",\n",
    "        \"../Data/genie_datasets/DBN_predictions/all_var_BN_model/Prov_cure_ckd_egfr_registry_preprocessed_project_preproc_data_discretized_using_UCLA_discritizer_with_DBN_predictions.csv\"\n",
    "]\n",
    "\n",
    "df_all_results = pd.DataFrame()\n",
    "\n",
    "\n",
    "for filename in filenames:\n",
    "    \n",
    "    df_valid = pd.read_csv(filename, low_memory=False)\n",
    "    \n",
    "    print(filename.split('/')[-1])\n",
    "    \n",
    "    num_of_epochs = 1\n",
    "    \n",
    "    cols = [\"Dataset\",\"Metric\"]+[\"Year \" + str(epoch_num + 1) for epoch_num in range(num_of_epochs)]\n",
    "    \n",
    "    auc_rocs, ap_aucs = [filename.replace(\"../Data/genie_datasets/DBN_predictions/all_var_BN_model/cure_ckd_egfr_registry_preprocessed_project_preproc_data_discretized_\",\"\")\\\n",
    "                    ,\"AUC ROC\"],[filename.replace(\"../Data/genie_datasets/DBN_predictions/all_var_BN_model/cure_ckd_egfr_registry_preprocessed_project_preproc_data_discretized_\",\"\")\\\n",
    "                      ,\"AP\"]\n",
    "\n",
    "    tns, fps, fns, tps = [filename.replace(\"../Data/genie_datasets/DBN_predictions/all_var_BN_model/cure_ckd_egfr_registry_preprocessed_project_preproc_data_discretized_\",\"\")\\\n",
    "                          ,\"TNs\"],[filename.replace(\"../Data/genie_datasets/DBN_predictions/all_var_BN_model/cure_ckd_egfr_registry_preprocessed_project_preproc_data_discretized_\",\"\")\\\n",
    "                                   ,\"FPs\"],[filename.replace(\"../Data/genie_datasets/DBN_predictions/all_var_BN_model/cure_ckd_egfr_registry_preprocessed_project_preproc_data_discretized_\",\"\")\\\n",
    "                                            ,\"FNs\"],[filename.replace(\"../Data/genie_datasets/DBN_predictions/all_var_BN_model/cure_ckd_egfr_registry_preprocessed_project_preproc_data_discretized_\",\"\")\\\n",
    "                                                     ,\"TPs\"]\n",
    "    precisions, recalls = [filename.replace(\"../Data/genie_datasets/DBN_predictions/all_var_BN_model/cure_ckd_egfr_registry_preprocessed_project_preproc_data_discretized_\",\"\")\\\n",
    "                           ,\"Precision/PPV\"],[filename.replace(\"../Data/genie_datasets/DBN_predictions/all_var_BN_model/cure_ckd_egfr_registry_preprocessed_project_preproc_data_discretized_\",\"\")\\\n",
    "                                              ,\"Recall/Sensitivity\"]\n",
    "    specificities, f1Scores = [filename.replace(\"../Data/genie_datasets/DBN_predictions/all_var_BN_model/cure_ckd_egfr_registry_preprocessed_project_preproc_data_discretized_\",\"\")\\\n",
    "                               ,\"Specificity\"],[filename.replace(\"../Data/genie_datasets/DBN_predictions/all_var_BN_model/cure_ckd_egfr_registry_preprocessed_project_preproc_data_discretized_\",\"\")\\\n",
    "                                                ,\"F1 score\"]\n",
    "    filenames_epochs = []\n",
    "\n",
    "    # looping over epochs\n",
    "    for epoch_num in range(0, num_of_epochs):\n",
    "\n",
    "        # target variable\n",
    "        target = \"year\" + str(1 + epoch_num) + \"_reduction_40_ge\"\n",
    "        truth = df_valid[target].str.replace(\"S_\", \"\").astype(int).values\n",
    "        predictions = df_valid[\"predictions_year\" + str(epoch_num + 1)]\n",
    "\n",
    "        auc_roc = roc_auc_score(truth,predictions)\n",
    "        ap_score = average_precision_score(truth,predictions)\n",
    "        auc_rocs.append(round(auc_roc,3))\n",
    "        ap_aucs.append(round(ap_score,3))\n",
    "\n",
    "        # testing optimal threshold\n",
    "        threshold = 0.14\n",
    "        preds = (predictions>threshold)*1\n",
    "        tn, fp, fn, tp = confusion_matrix(truth, preds).ravel()\n",
    "        \n",
    "        tns.append(tn)\n",
    "        fps.append(fp) \n",
    "        fns.append(fn) \n",
    "        tps.append(tp)\n",
    "\n",
    "        print(\"epoch \" + str(epoch_num + 1))\n",
    "        \n",
    "        # aucs\n",
    "        print(\"AUC ROC: \")\n",
    "        print(auc_roc)\n",
    "        print(\"AP: \")\n",
    "        print(ap_score)\n",
    "\n",
    "        # confusion matrices\n",
    "        print(\"TN, FP, FN, TP :\")\n",
    "        print(tn, fp, fn, tp)\n",
    "\n",
    "        precision = precision_score(truth,preds)\n",
    "        recall = recall_score(truth,preds)\n",
    "        specificity = float(tn) / float(tn+fp)\n",
    "        f1Score = f1_score(truth, preds)\n",
    "        \n",
    "        precisions.append(round(precision,3))\n",
    "        recalls.append(round(recall,3))\n",
    "        specificities.append(round(specificity,3)) \n",
    "        f1Scores.append(round(f1Score,3))\n",
    "\n",
    "        # metrics\n",
    "        print(\"Precision, Recall, Spec, F1 score :\")\n",
    "        print(precision,recall,specificity,f1Score)\n",
    "        \n",
    "    metrics = [auc_rocs, ap_aucs, tns, fps, fns, tps, precisions, recalls, specificities, f1Scores]\n",
    "    df_results = pd.DataFrame(data=metrics,columns=cols)\n",
    "        \n",
    "    df_all_results = df_all_results.append(df_results)\n",
    "    \n",
    "    print('\\n')"
   ]
  },
  {
   "cell_type": "code",
   "execution_count": 20,
   "metadata": {},
   "outputs": [],
   "source": [
    "df_all_results.to_csv(\"../Data/genie_datasets/DBN_predictions/Results/all_vars_model_BN_results.csv\",index=False)"
   ]
  },
  {
   "cell_type": "code",
   "execution_count": 24,
   "metadata": {},
   "outputs": [
    {
     "data": {
      "text/html": [
       "<div>\n",
       "<style scoped>\n",
       "    .dataframe tbody tr th:only-of-type {\n",
       "        vertical-align: middle;\n",
       "    }\n",
       "\n",
       "    .dataframe tbody tr th {\n",
       "        vertical-align: top;\n",
       "    }\n",
       "\n",
       "    .dataframe thead th {\n",
       "        text-align: right;\n",
       "    }\n",
       "</style>\n",
       "<table border=\"1\" class=\"dataframe\">\n",
       "  <thead>\n",
       "    <tr style=\"text-align: right;\">\n",
       "      <th></th>\n",
       "      <th>Dataset</th>\n",
       "      <th>Metric</th>\n",
       "      <th>Year 1</th>\n",
       "    </tr>\n",
       "  </thead>\n",
       "  <tbody>\n",
       "    <tr>\n",
       "      <th>0</th>\n",
       "      <td>UCLA_train_with_DBN_predictions.csv</td>\n",
       "      <td>AUC ROC</td>\n",
       "      <td>0.767</td>\n",
       "    </tr>\n",
       "    <tr>\n",
       "      <th>1</th>\n",
       "      <td>UCLA_train_with_DBN_predictions.csv</td>\n",
       "      <td>AP</td>\n",
       "      <td>0.042</td>\n",
       "    </tr>\n",
       "    <tr>\n",
       "      <th>2</th>\n",
       "      <td>UCLA_train_with_DBN_predictions.csv</td>\n",
       "      <td>TNs</td>\n",
       "      <td>96346.000</td>\n",
       "    </tr>\n",
       "    <tr>\n",
       "      <th>3</th>\n",
       "      <td>UCLA_train_with_DBN_predictions.csv</td>\n",
       "      <td>FPs</td>\n",
       "      <td>41776.000</td>\n",
       "    </tr>\n",
       "    <tr>\n",
       "      <th>4</th>\n",
       "      <td>UCLA_train_with_DBN_predictions.csv</td>\n",
       "      <td>FNs</td>\n",
       "      <td>343.000</td>\n",
       "    </tr>\n",
       "    <tr>\n",
       "      <th>5</th>\n",
       "      <td>UCLA_train_with_DBN_predictions.csv</td>\n",
       "      <td>TPs</td>\n",
       "      <td>876.000</td>\n",
       "    </tr>\n",
       "    <tr>\n",
       "      <th>6</th>\n",
       "      <td>UCLA_train_with_DBN_predictions.csv</td>\n",
       "      <td>Precision/PPV</td>\n",
       "      <td>0.021</td>\n",
       "    </tr>\n",
       "    <tr>\n",
       "      <th>7</th>\n",
       "      <td>UCLA_train_with_DBN_predictions.csv</td>\n",
       "      <td>Recall/Sensitivity</td>\n",
       "      <td>0.719</td>\n",
       "    </tr>\n",
       "    <tr>\n",
       "      <th>8</th>\n",
       "      <td>UCLA_train_with_DBN_predictions.csv</td>\n",
       "      <td>Specificity</td>\n",
       "      <td>0.698</td>\n",
       "    </tr>\n",
       "    <tr>\n",
       "      <th>9</th>\n",
       "      <td>UCLA_train_with_DBN_predictions.csv</td>\n",
       "      <td>F1 score</td>\n",
       "      <td>0.040</td>\n",
       "    </tr>\n",
       "    <tr>\n",
       "      <th>0</th>\n",
       "      <td>UCLA_valid_with_DBN_predictions.csv</td>\n",
       "      <td>AUC ROC</td>\n",
       "      <td>0.737</td>\n",
       "    </tr>\n",
       "    <tr>\n",
       "      <th>1</th>\n",
       "      <td>UCLA_valid_with_DBN_predictions.csv</td>\n",
       "      <td>AP</td>\n",
       "      <td>0.033</td>\n",
       "    </tr>\n",
       "    <tr>\n",
       "      <th>2</th>\n",
       "      <td>UCLA_valid_with_DBN_predictions.csv</td>\n",
       "      <td>TNs</td>\n",
       "      <td>31971.000</td>\n",
       "    </tr>\n",
       "    <tr>\n",
       "      <th>3</th>\n",
       "      <td>UCLA_valid_with_DBN_predictions.csv</td>\n",
       "      <td>FPs</td>\n",
       "      <td>14101.000</td>\n",
       "    </tr>\n",
       "    <tr>\n",
       "      <th>4</th>\n",
       "      <td>UCLA_valid_with_DBN_predictions.csv</td>\n",
       "      <td>FNs</td>\n",
       "      <td>111.000</td>\n",
       "    </tr>\n",
       "    <tr>\n",
       "      <th>5</th>\n",
       "      <td>UCLA_valid_with_DBN_predictions.csv</td>\n",
       "      <td>TPs</td>\n",
       "      <td>264.000</td>\n",
       "    </tr>\n",
       "    <tr>\n",
       "      <th>6</th>\n",
       "      <td>UCLA_valid_with_DBN_predictions.csv</td>\n",
       "      <td>Precision/PPV</td>\n",
       "      <td>0.018</td>\n",
       "    </tr>\n",
       "    <tr>\n",
       "      <th>7</th>\n",
       "      <td>UCLA_valid_with_DBN_predictions.csv</td>\n",
       "      <td>Recall/Sensitivity</td>\n",
       "      <td>0.704</td>\n",
       "    </tr>\n",
       "    <tr>\n",
       "      <th>8</th>\n",
       "      <td>UCLA_valid_with_DBN_predictions.csv</td>\n",
       "      <td>Specificity</td>\n",
       "      <td>0.694</td>\n",
       "    </tr>\n",
       "    <tr>\n",
       "      <th>9</th>\n",
       "      <td>UCLA_valid_with_DBN_predictions.csv</td>\n",
       "      <td>F1 score</td>\n",
       "      <td>0.036</td>\n",
       "    </tr>\n",
       "    <tr>\n",
       "      <th>0</th>\n",
       "      <td>UCLA_test_with_DBN_predictions.csv</td>\n",
       "      <td>AUC ROC</td>\n",
       "      <td>0.764</td>\n",
       "    </tr>\n",
       "    <tr>\n",
       "      <th>1</th>\n",
       "      <td>UCLA_test_with_DBN_predictions.csv</td>\n",
       "      <td>AP</td>\n",
       "      <td>0.033</td>\n",
       "    </tr>\n",
       "    <tr>\n",
       "      <th>2</th>\n",
       "      <td>UCLA_test_with_DBN_predictions.csv</td>\n",
       "      <td>TNs</td>\n",
       "      <td>31902.000</td>\n",
       "    </tr>\n",
       "    <tr>\n",
       "      <th>3</th>\n",
       "      <td>UCLA_test_with_DBN_predictions.csv</td>\n",
       "      <td>FPs</td>\n",
       "      <td>14138.000</td>\n",
       "    </tr>\n",
       "    <tr>\n",
       "      <th>4</th>\n",
       "      <td>UCLA_test_with_DBN_predictions.csv</td>\n",
       "      <td>FNs</td>\n",
       "      <td>116.000</td>\n",
       "    </tr>\n",
       "    <tr>\n",
       "      <th>5</th>\n",
       "      <td>UCLA_test_with_DBN_predictions.csv</td>\n",
       "      <td>TPs</td>\n",
       "      <td>291.000</td>\n",
       "    </tr>\n",
       "    <tr>\n",
       "      <th>6</th>\n",
       "      <td>UCLA_test_with_DBN_predictions.csv</td>\n",
       "      <td>Precision/PPV</td>\n",
       "      <td>0.020</td>\n",
       "    </tr>\n",
       "    <tr>\n",
       "      <th>7</th>\n",
       "      <td>UCLA_test_with_DBN_predictions.csv</td>\n",
       "      <td>Recall/Sensitivity</td>\n",
       "      <td>0.715</td>\n",
       "    </tr>\n",
       "    <tr>\n",
       "      <th>8</th>\n",
       "      <td>UCLA_test_with_DBN_predictions.csv</td>\n",
       "      <td>Specificity</td>\n",
       "      <td>0.693</td>\n",
       "    </tr>\n",
       "    <tr>\n",
       "      <th>9</th>\n",
       "      <td>UCLA_test_with_DBN_predictions.csv</td>\n",
       "      <td>F1 score</td>\n",
       "      <td>0.039</td>\n",
       "    </tr>\n",
       "    <tr>\n",
       "      <th>0</th>\n",
       "      <td>../Data/genie_datasets/DBN_predictions/all_var...</td>\n",
       "      <td>AUC ROC</td>\n",
       "      <td>0.708</td>\n",
       "    </tr>\n",
       "    <tr>\n",
       "      <th>1</th>\n",
       "      <td>../Data/genie_datasets/DBN_predictions/all_var...</td>\n",
       "      <td>AP</td>\n",
       "      <td>0.016</td>\n",
       "    </tr>\n",
       "    <tr>\n",
       "      <th>2</th>\n",
       "      <td>../Data/genie_datasets/DBN_predictions/all_var...</td>\n",
       "      <td>TNs</td>\n",
       "      <td>1786574.000</td>\n",
       "    </tr>\n",
       "    <tr>\n",
       "      <th>3</th>\n",
       "      <td>../Data/genie_datasets/DBN_predictions/all_var...</td>\n",
       "      <td>FPs</td>\n",
       "      <td>881102.000</td>\n",
       "    </tr>\n",
       "    <tr>\n",
       "      <th>4</th>\n",
       "      <td>../Data/genie_datasets/DBN_predictions/all_var...</td>\n",
       "      <td>FNs</td>\n",
       "      <td>5311.000</td>\n",
       "    </tr>\n",
       "    <tr>\n",
       "      <th>5</th>\n",
       "      <td>../Data/genie_datasets/DBN_predictions/all_var...</td>\n",
       "      <td>TPs</td>\n",
       "      <td>10370.000</td>\n",
       "    </tr>\n",
       "    <tr>\n",
       "      <th>6</th>\n",
       "      <td>../Data/genie_datasets/DBN_predictions/all_var...</td>\n",
       "      <td>Precision/PPV</td>\n",
       "      <td>0.012</td>\n",
       "    </tr>\n",
       "    <tr>\n",
       "      <th>7</th>\n",
       "      <td>../Data/genie_datasets/DBN_predictions/all_var...</td>\n",
       "      <td>Recall/Sensitivity</td>\n",
       "      <td>0.661</td>\n",
       "    </tr>\n",
       "    <tr>\n",
       "      <th>8</th>\n",
       "      <td>../Data/genie_datasets/DBN_predictions/all_var...</td>\n",
       "      <td>Specificity</td>\n",
       "      <td>0.670</td>\n",
       "    </tr>\n",
       "    <tr>\n",
       "      <th>9</th>\n",
       "      <td>../Data/genie_datasets/DBN_predictions/all_var...</td>\n",
       "      <td>F1 score</td>\n",
       "      <td>0.023</td>\n",
       "    </tr>\n",
       "  </tbody>\n",
       "</table>\n",
       "</div>"
      ],
      "text/plain": [
       "                                             Dataset              Metric  \\\n",
       "0                UCLA_train_with_DBN_predictions.csv             AUC ROC   \n",
       "1                UCLA_train_with_DBN_predictions.csv                  AP   \n",
       "2                UCLA_train_with_DBN_predictions.csv                 TNs   \n",
       "3                UCLA_train_with_DBN_predictions.csv                 FPs   \n",
       "4                UCLA_train_with_DBN_predictions.csv                 FNs   \n",
       "5                UCLA_train_with_DBN_predictions.csv                 TPs   \n",
       "6                UCLA_train_with_DBN_predictions.csv       Precision/PPV   \n",
       "7                UCLA_train_with_DBN_predictions.csv  Recall/Sensitivity   \n",
       "8                UCLA_train_with_DBN_predictions.csv         Specificity   \n",
       "9                UCLA_train_with_DBN_predictions.csv            F1 score   \n",
       "0                UCLA_valid_with_DBN_predictions.csv             AUC ROC   \n",
       "1                UCLA_valid_with_DBN_predictions.csv                  AP   \n",
       "2                UCLA_valid_with_DBN_predictions.csv                 TNs   \n",
       "3                UCLA_valid_with_DBN_predictions.csv                 FPs   \n",
       "4                UCLA_valid_with_DBN_predictions.csv                 FNs   \n",
       "5                UCLA_valid_with_DBN_predictions.csv                 TPs   \n",
       "6                UCLA_valid_with_DBN_predictions.csv       Precision/PPV   \n",
       "7                UCLA_valid_with_DBN_predictions.csv  Recall/Sensitivity   \n",
       "8                UCLA_valid_with_DBN_predictions.csv         Specificity   \n",
       "9                UCLA_valid_with_DBN_predictions.csv            F1 score   \n",
       "0                 UCLA_test_with_DBN_predictions.csv             AUC ROC   \n",
       "1                 UCLA_test_with_DBN_predictions.csv                  AP   \n",
       "2                 UCLA_test_with_DBN_predictions.csv                 TNs   \n",
       "3                 UCLA_test_with_DBN_predictions.csv                 FPs   \n",
       "4                 UCLA_test_with_DBN_predictions.csv                 FNs   \n",
       "5                 UCLA_test_with_DBN_predictions.csv                 TPs   \n",
       "6                 UCLA_test_with_DBN_predictions.csv       Precision/PPV   \n",
       "7                 UCLA_test_with_DBN_predictions.csv  Recall/Sensitivity   \n",
       "8                 UCLA_test_with_DBN_predictions.csv         Specificity   \n",
       "9                 UCLA_test_with_DBN_predictions.csv            F1 score   \n",
       "0  ../Data/genie_datasets/DBN_predictions/all_var...             AUC ROC   \n",
       "1  ../Data/genie_datasets/DBN_predictions/all_var...                  AP   \n",
       "2  ../Data/genie_datasets/DBN_predictions/all_var...                 TNs   \n",
       "3  ../Data/genie_datasets/DBN_predictions/all_var...                 FPs   \n",
       "4  ../Data/genie_datasets/DBN_predictions/all_var...                 FNs   \n",
       "5  ../Data/genie_datasets/DBN_predictions/all_var...                 TPs   \n",
       "6  ../Data/genie_datasets/DBN_predictions/all_var...       Precision/PPV   \n",
       "7  ../Data/genie_datasets/DBN_predictions/all_var...  Recall/Sensitivity   \n",
       "8  ../Data/genie_datasets/DBN_predictions/all_var...         Specificity   \n",
       "9  ../Data/genie_datasets/DBN_predictions/all_var...            F1 score   \n",
       "\n",
       "        Year 1  \n",
       "0        0.767  \n",
       "1        0.042  \n",
       "2    96346.000  \n",
       "3    41776.000  \n",
       "4      343.000  \n",
       "5      876.000  \n",
       "6        0.021  \n",
       "7        0.719  \n",
       "8        0.698  \n",
       "9        0.040  \n",
       "0        0.737  \n",
       "1        0.033  \n",
       "2    31971.000  \n",
       "3    14101.000  \n",
       "4      111.000  \n",
       "5      264.000  \n",
       "6        0.018  \n",
       "7        0.704  \n",
       "8        0.694  \n",
       "9        0.036  \n",
       "0        0.764  \n",
       "1        0.033  \n",
       "2    31902.000  \n",
       "3    14138.000  \n",
       "4      116.000  \n",
       "5      291.000  \n",
       "6        0.020  \n",
       "7        0.715  \n",
       "8        0.693  \n",
       "9        0.039  \n",
       "0        0.708  \n",
       "1        0.016  \n",
       "2  1786574.000  \n",
       "3   881102.000  \n",
       "4     5311.000  \n",
       "5    10370.000  \n",
       "6        0.012  \n",
       "7        0.661  \n",
       "8        0.670  \n",
       "9        0.023  "
      ]
     },
     "execution_count": 24,
     "metadata": {},
     "output_type": "execute_result"
    }
   ],
   "source": [
    "df_all_results"
   ]
  },
  {
   "cell_type": "code",
   "execution_count": null,
   "metadata": {},
   "outputs": [],
   "source": []
  }
 ],
 "metadata": {
  "kernelspec": {
   "display_name": "Python 3",
   "language": "python",
   "name": "python3"
  },
  "language_info": {
   "codemirror_mode": {
    "name": "ipython",
    "version": 3
   },
   "file_extension": ".py",
   "mimetype": "text/x-python",
   "name": "python",
   "nbconvert_exporter": "python",
   "pygments_lexer": "ipython3",
   "version": "3.7.4"
  }
 },
 "nbformat": 4,
 "nbformat_minor": 2
}
