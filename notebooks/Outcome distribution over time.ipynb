{
 "cells": [
  {
   "cell_type": "code",
   "execution_count": 1,
   "metadata": {},
   "outputs": [],
   "source": [
    "import pandas as pd\n",
    "import numpy as np\n",
    "from tqdm import tqdm"
   ]
  },
  {
   "cell_type": "code",
   "execution_count": 3,
   "metadata": {},
   "outputs": [],
   "source": [
    "DATA_PATH_read = (\n",
    "    \"../Data/\" + \"cure_ckd_egfr_registry_preprocessed_project_preproc_data.csv\"\n",
    ")\n",
    "# read dataset\n",
    "df = pd.read_csv(DATA_PATH_read)\n",
    "\n",
    "# preprocessing steps\n",
    "## 1. creating temporal binary 40 reduction columns\n",
    "\n",
    "reduction_cols = [\"year\" + str(i) + \"_reduction\" for i in range(1, 14)] + [\n",
    "    \"year\" + str(i) + \"_norace_reduction\" for i in range(1, 14)\n",
    "]\n",
    "\n",
    "reductions_40_ge_cols = [col + \"_40_ge\" for col in reduction_cols]\n",
    "\n",
    "df[reductions_40_ge_cols] = (df[reduction_cols] >= 0.4) * 1"
   ]
  },
  {
   "cell_type": "code",
   "execution_count": 7,
   "metadata": {},
   "outputs": [],
   "source": [
    "reduction_cols_no_race = [\"year\" + str(i) + \"_reduction\" for i in range(1, 14)] \n",
    "reduction_cols_race = [\"year\" + str(i) + \"_norace_reduction\" for i in range(1, 14)]\n",
    "\n",
    "reductions_40_ge_cols_no_race = [col + \"_40_ge\" for col in reduction_cols_no_race]\n",
    "reductions_40_ge_cols_race = [col + \"_40_ge\" for col in reduction_cols_race]\n",
    "\n"
   ]
  },
  {
   "cell_type": "code",
   "execution_count": 8,
   "metadata": {},
   "outputs": [
    {
     "data": {
      "text/plain": [
       "year1_reduction_40_ge     18080\n",
       "year2_reduction_40_ge     23326\n",
       "year3_reduction_40_ge     26062\n",
       "year4_reduction_40_ge     27333\n",
       "year5_reduction_40_ge     27387\n",
       "year6_reduction_40_ge     26520\n",
       "year7_reduction_40_ge     24800\n",
       "year8_reduction_40_ge     22856\n",
       "year9_reduction_40_ge     20146\n",
       "year10_reduction_40_ge    16506\n",
       "year11_reduction_40_ge    12147\n",
       "year12_reduction_40_ge     5270\n",
       "year13_reduction_40_ge     2831\n",
       "dtype: int64"
      ]
     },
     "execution_count": 8,
     "metadata": {},
     "output_type": "execute_result"
    }
   ],
   "source": [
    "df[reductions_40_ge_cols_no_race].sum(axis=0)"
   ]
  },
  {
   "cell_type": "code",
   "execution_count": 9,
   "metadata": {},
   "outputs": [
    {
     "data": {
      "text/plain": [
       "year1_norace_reduction_40_ge     18080\n",
       "year2_norace_reduction_40_ge     23326\n",
       "year3_norace_reduction_40_ge     26062\n",
       "year4_norace_reduction_40_ge     27333\n",
       "year5_norace_reduction_40_ge     27386\n",
       "year6_norace_reduction_40_ge     26520\n",
       "year7_norace_reduction_40_ge     24799\n",
       "year8_norace_reduction_40_ge     22855\n",
       "year9_norace_reduction_40_ge     20144\n",
       "year10_norace_reduction_40_ge    16507\n",
       "year11_norace_reduction_40_ge    12147\n",
       "year12_norace_reduction_40_ge     5270\n",
       "year13_norace_reduction_40_ge     2831\n",
       "dtype: int64"
      ]
     },
     "execution_count": 9,
     "metadata": {},
     "output_type": "execute_result"
    }
   ],
   "source": [
    "df[reductions_40_ge_cols_race].sum(axis=0)"
   ]
  },
  {
   "cell_type": "code",
   "execution_count": null,
   "metadata": {},
   "outputs": [],
   "source": []
  }
 ],
 "metadata": {
  "kernelspec": {
   "display_name": "Python 3.7.4 ('venv': venv)",
   "language": "python",
   "name": "python3"
  },
  "language_info": {
   "codemirror_mode": {
    "name": "ipython",
    "version": 3
   },
   "file_extension": ".py",
   "mimetype": "text/x-python",
   "name": "python",
   "nbconvert_exporter": "python",
   "pygments_lexer": "ipython3",
   "version": "3.7.4"
  },
  "vscode": {
   "interpreter": {
    "hash": "1760e995f14b06106c87bf32d6451534e77cd9783514cdc2898bf5a99d0d31bd"
   }
  }
 },
 "nbformat": 4,
 "nbformat_minor": 2
}
